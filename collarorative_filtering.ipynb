{
 "cells": [
  {
   "cell_type": "code",
   "execution_count": 870,
   "id": "459ced7e",
   "metadata": {
    "ExecuteTime": {
     "end_time": "2022-03-05T05:52:43.698015Z",
     "start_time": "2022-03-05T05:52:43.684089Z"
    }
   },
   "outputs": [],
   "source": [
    "import pandas as pd\n",
    "import numpy as np\n",
    "import torch\n",
    "import torch.nn as nn\n",
    "import torch.nn.functional as F\n",
    "from statistics import mode\n",
    "from torch.utils.data import Dataset, DataLoader"
   ]
  },
  {
   "cell_type": "code",
   "execution_count": 871,
   "id": "8a60e65b",
   "metadata": {
    "ExecuteTime": {
     "end_time": "2022-03-05T05:52:44.280876Z",
     "start_time": "2022-03-05T05:52:44.003657Z"
    }
   },
   "outputs": [
    {
     "data": {
      "text/html": [
       "<div>\n",
       "<style scoped>\n",
       "    .dataframe tbody tr th:only-of-type {\n",
       "        vertical-align: middle;\n",
       "    }\n",
       "\n",
       "    .dataframe tbody tr th {\n",
       "        vertical-align: top;\n",
       "    }\n",
       "\n",
       "    .dataframe thead th {\n",
       "        text-align: right;\n",
       "    }\n",
       "</style>\n",
       "<table border=\"1\" class=\"dataframe\">\n",
       "  <thead>\n",
       "    <tr style=\"text-align: right;\">\n",
       "      <th></th>\n",
       "      <th>user_id</th>\n",
       "      <th>item_id</th>\n",
       "      <th>context_feature_id</th>\n",
       "    </tr>\n",
       "  </thead>\n",
       "  <tbody>\n",
       "    <tr>\n",
       "      <th>0</th>\n",
       "      <td>0</td>\n",
       "      <td>28366</td>\n",
       "      <td>2</td>\n",
       "    </tr>\n",
       "    <tr>\n",
       "      <th>1</th>\n",
       "      <td>0</td>\n",
       "      <td>16109</td>\n",
       "      <td>2</td>\n",
       "    </tr>\n",
       "    <tr>\n",
       "      <th>2</th>\n",
       "      <td>0</td>\n",
       "      <td>11500</td>\n",
       "      <td>3</td>\n",
       "    </tr>\n",
       "    <tr>\n",
       "      <th>3</th>\n",
       "      <td>0</td>\n",
       "      <td>20750</td>\n",
       "      <td>2</td>\n",
       "    </tr>\n",
       "    <tr>\n",
       "      <th>4</th>\n",
       "      <td>0</td>\n",
       "      <td>8759</td>\n",
       "      <td>2</td>\n",
       "    </tr>\n",
       "  </tbody>\n",
       "</table>\n",
       "</div>"
      ],
      "text/plain": [
       "   user_id  item_id  context_feature_id\n",
       "0        0    28366                   2\n",
       "1        0    16109                   2\n",
       "2        0    11500                   3\n",
       "3        0    20750                   2\n",
       "4        0     8759                   2"
      ]
     },
     "execution_count": 871,
     "metadata": {},
     "output_type": "execute_result"
    }
   ],
   "source": [
    "df_users = pd.read_csv('training.csv')\n",
    "df_users.head()"
   ]
  },
  {
   "cell_type": "code",
   "execution_count": 872,
   "id": "38fccb0b",
   "metadata": {
    "ExecuteTime": {
     "end_time": "2022-03-05T05:52:44.396850Z",
     "start_time": "2022-03-05T05:52:44.373745Z"
    }
   },
   "outputs": [
    {
     "data": {
      "text/html": [
       "<div>\n",
       "<style scoped>\n",
       "    .dataframe tbody tr th:only-of-type {\n",
       "        vertical-align: middle;\n",
       "    }\n",
       "\n",
       "    .dataframe tbody tr th {\n",
       "        vertical-align: top;\n",
       "    }\n",
       "\n",
       "    .dataframe thead th {\n",
       "        text-align: right;\n",
       "    }\n",
       "</style>\n",
       "<table border=\"1\" class=\"dataframe\">\n",
       "  <thead>\n",
       "    <tr style=\"text-align: right;\">\n",
       "      <th></th>\n",
       "      <th>item_id</th>\n",
       "      <th>item_feature_id</th>\n",
       "    </tr>\n",
       "  </thead>\n",
       "  <tbody>\n",
       "    <tr>\n",
       "      <th>0</th>\n",
       "      <td>0</td>\n",
       "      <td>139</td>\n",
       "    </tr>\n",
       "    <tr>\n",
       "      <th>1</th>\n",
       "      <td>1</td>\n",
       "      <td>55</td>\n",
       "    </tr>\n",
       "    <tr>\n",
       "      <th>2</th>\n",
       "      <td>2</td>\n",
       "      <td>11</td>\n",
       "    </tr>\n",
       "    <tr>\n",
       "      <th>3</th>\n",
       "      <td>3</td>\n",
       "      <td>138</td>\n",
       "    </tr>\n",
       "    <tr>\n",
       "      <th>4</th>\n",
       "      <td>4</td>\n",
       "      <td>138</td>\n",
       "    </tr>\n",
       "  </tbody>\n",
       "</table>\n",
       "</div>"
      ],
      "text/plain": [
       "   item_id  item_feature_id\n",
       "0        0              139\n",
       "1        1               55\n",
       "2        2               11\n",
       "3        3              138\n",
       "4        4              138"
      ]
     },
     "execution_count": 872,
     "metadata": {},
     "output_type": "execute_result"
    }
   ],
   "source": [
    "df_items = pd.read_csv('item_feature.csv')\n",
    "df_items.head()"
   ]
  },
  {
   "cell_type": "code",
   "execution_count": 873,
   "id": "e67bad4b",
   "metadata": {
    "ExecuteTime": {
     "end_time": "2022-03-05T05:52:45.341387Z",
     "start_time": "2022-03-05T05:52:45.214698Z"
    }
   },
   "outputs": [
    {
     "data": {
      "text/html": [
       "<div>\n",
       "<style scoped>\n",
       "    .dataframe tbody tr th:only-of-type {\n",
       "        vertical-align: middle;\n",
       "    }\n",
       "\n",
       "    .dataframe tbody tr th {\n",
       "        vertical-align: top;\n",
       "    }\n",
       "\n",
       "    .dataframe thead th {\n",
       "        text-align: right;\n",
       "    }\n",
       "</style>\n",
       "<table border=\"1\" class=\"dataframe\">\n",
       "  <thead>\n",
       "    <tr style=\"text-align: right;\">\n",
       "      <th></th>\n",
       "      <th>user_id</th>\n",
       "      <th>item_id</th>\n",
       "      <th>item_feature_id</th>\n",
       "    </tr>\n",
       "  </thead>\n",
       "  <tbody>\n",
       "    <tr>\n",
       "      <th>0</th>\n",
       "      <td>0</td>\n",
       "      <td>28366</td>\n",
       "      <td>7</td>\n",
       "    </tr>\n",
       "    <tr>\n",
       "      <th>1</th>\n",
       "      <td>1731</td>\n",
       "      <td>28366</td>\n",
       "      <td>7</td>\n",
       "    </tr>\n",
       "    <tr>\n",
       "      <th>2</th>\n",
       "      <td>10168</td>\n",
       "      <td>28366</td>\n",
       "      <td>7</td>\n",
       "    </tr>\n",
       "    <tr>\n",
       "      <th>3</th>\n",
       "      <td>18883</td>\n",
       "      <td>28366</td>\n",
       "      <td>7</td>\n",
       "    </tr>\n",
       "    <tr>\n",
       "      <th>4</th>\n",
       "      <td>19763</td>\n",
       "      <td>28366</td>\n",
       "      <td>7</td>\n",
       "    </tr>\n",
       "  </tbody>\n",
       "</table>\n",
       "</div>"
      ],
      "text/plain": [
       "   user_id  item_id  item_feature_id\n",
       "0        0    28366                7\n",
       "1     1731    28366                7\n",
       "2    10168    28366                7\n",
       "3    18883    28366                7\n",
       "4    19763    28366                7"
      ]
     },
     "execution_count": 873,
     "metadata": {},
     "output_type": "execute_result"
    }
   ],
   "source": [
    "df = pd.merge(df_users.drop('context_feature_id',axis=1),df_items,on='item_id')\n",
    "df.head()"
   ]
  },
  {
   "cell_type": "code",
   "execution_count": 875,
   "id": "7f239a51",
   "metadata": {
    "ExecuteTime": {
     "end_time": "2022-03-05T05:52:46.392215Z",
     "start_time": "2022-03-05T05:52:46.379848Z"
    }
   },
   "outputs": [],
   "source": [
    "df['rating'] = 1  #Setting implicit rating"
   ]
  },
  {
   "cell_type": "code",
   "execution_count": 876,
   "id": "a40df267",
   "metadata": {
    "ExecuteTime": {
     "end_time": "2022-03-05T05:52:46.826283Z",
     "start_time": "2022-03-05T05:52:46.810104Z"
    },
    "scrolled": true
   },
   "outputs": [
    {
     "data": {
      "text/plain": [
       "(200152, 39901)"
      ]
     },
     "execution_count": 876,
     "metadata": {},
     "output_type": "execute_result"
    }
   ],
   "source": [
    "num_users = df.user_id.max()\n",
    "num_items = len(np.unique(df_items.item_id))\n",
    "num_users, num_items"
   ]
  },
  {
   "cell_type": "markdown",
   "id": "b7e09853",
   "metadata": {},
   "source": [
    "## Negative sampling based on user popularity"
   ]
  },
  {
   "cell_type": "code",
   "execution_count": 956,
   "id": "886bfc20",
   "metadata": {
    "ExecuteTime": {
     "end_time": "2022-03-05T06:34:28.929108Z",
     "start_time": "2022-03-05T06:34:28.598702Z"
    },
    "scrolled": true
   },
   "outputs": [
    {
     "data": {
      "text/html": [
       "<div>\n",
       "<style scoped>\n",
       "    .dataframe tbody tr th:only-of-type {\n",
       "        vertical-align: middle;\n",
       "    }\n",
       "\n",
       "    .dataframe tbody tr th {\n",
       "        vertical-align: top;\n",
       "    }\n",
       "\n",
       "    .dataframe thead th {\n",
       "        text-align: right;\n",
       "    }\n",
       "</style>\n",
       "<table border=\"1\" class=\"dataframe\">\n",
       "  <thead>\n",
       "    <tr style=\"text-align: right;\">\n",
       "      <th></th>\n",
       "      <th>user_id</th>\n",
       "      <th>item_feature_id</th>\n",
       "      <th>rating</th>\n",
       "    </tr>\n",
       "    <tr>\n",
       "      <th>item_id</th>\n",
       "      <th></th>\n",
       "      <th></th>\n",
       "      <th></th>\n",
       "    </tr>\n",
       "  </thead>\n",
       "  <tbody>\n",
       "    <tr>\n",
       "      <th>400</th>\n",
       "      <td>9029</td>\n",
       "      <td>9029</td>\n",
       "      <td>9029</td>\n",
       "    </tr>\n",
       "    <tr>\n",
       "      <th>5619</th>\n",
       "      <td>7814</td>\n",
       "      <td>7814</td>\n",
       "      <td>7814</td>\n",
       "    </tr>\n",
       "    <tr>\n",
       "      <th>26467</th>\n",
       "      <td>7742</td>\n",
       "      <td>7742</td>\n",
       "      <td>7742</td>\n",
       "    </tr>\n",
       "    <tr>\n",
       "      <th>24490</th>\n",
       "      <td>7061</td>\n",
       "      <td>7061</td>\n",
       "      <td>7061</td>\n",
       "    </tr>\n",
       "    <tr>\n",
       "      <th>20489</th>\n",
       "      <td>6865</td>\n",
       "      <td>6865</td>\n",
       "      <td>6865</td>\n",
       "    </tr>\n",
       "  </tbody>\n",
       "</table>\n",
       "</div>"
      ],
      "text/plain": [
       "         user_id  item_feature_id  rating\n",
       "item_id                                  \n",
       "400         9029             9029    9029\n",
       "5619        7814             7814    7814\n",
       "26467       7742             7742    7742\n",
       "24490       7061             7061    7061\n",
       "20489       6865             6865    6865"
      ]
     },
     "execution_count": 956,
     "metadata": {},
     "output_type": "execute_result"
    }
   ],
   "source": [
    "df_group_item = df.groupby('item_id').count().sort_values('user_id',ascending=False)\n",
    "df_group_item.head(5)"
   ]
  },
  {
   "cell_type": "code",
   "execution_count": 880,
   "id": "e7aa4748",
   "metadata": {
    "ExecuteTime": {
     "end_time": "2022-03-05T05:52:48.617110Z",
     "start_time": "2022-03-05T05:52:48.565987Z"
    }
   },
   "outputs": [
    {
     "data": {
      "text/plain": [
       "array([6.19559999e-09, 7.15895473e-09, 7.22553246e-09, ...,\n",
       "       5.59400723e-05, 5.59400723e-05, 5.59400723e-05])"
      ]
     },
     "execution_count": 880,
     "metadata": {},
     "output_type": "execute_result"
    }
   ],
   "source": [
    "ar = df_group_item.user_id.values/sum(df_group_item.user_id.values)\n",
    "br = np.array([1/x for x in ar])\n",
    "cr = br/sum(br)\n",
    "cr"
   ]
  },
  {
   "cell_type": "code",
   "execution_count": 955,
   "id": "a6cea049",
   "metadata": {
    "ExecuteTime": {
     "end_time": "2022-03-05T06:27:01.687289Z",
     "start_time": "2022-03-05T06:27:01.549587Z"
    },
    "scrolled": true
   },
   "outputs": [],
   "source": [
    "df_group = df.groupby('user_id').count()"
   ]
  },
  {
   "cell_type": "code",
   "execution_count": 892,
   "id": "91fa0330",
   "metadata": {
    "ExecuteTime": {
     "end_time": "2022-03-05T05:54:17.449801Z",
     "start_time": "2022-03-05T05:53:10.897753Z"
    }
   },
   "outputs": [],
   "source": [
    "val_list = []\n",
    "for user in df_group.index:\n",
    "    items = np.random.choice(np.array(df_group_item.index),size=int(df_group.loc[user]['item_id']),p=cr)\n",
    "    [val_list.append([user,item, None,0]) for item in items]"
   ]
  },
  {
   "cell_type": "code",
   "execution_count": 893,
   "id": "c3d8fb88",
   "metadata": {
    "ExecuteTime": {
     "end_time": "2022-03-05T05:54:20.812586Z",
     "start_time": "2022-03-05T05:54:20.084999Z"
    }
   },
   "outputs": [],
   "source": [
    "val_df = pd.DataFrame(val_list,columns = df.columns)\n"
   ]
  },
  {
   "cell_type": "code",
   "execution_count": 894,
   "id": "f85ad396",
   "metadata": {
    "ExecuteTime": {
     "end_time": "2022-03-05T05:54:20.820347Z",
     "start_time": "2022-03-05T05:54:20.813642Z"
    }
   },
   "outputs": [
    {
     "data": {
      "text/html": [
       "<div>\n",
       "<style scoped>\n",
       "    .dataframe tbody tr th:only-of-type {\n",
       "        vertical-align: middle;\n",
       "    }\n",
       "\n",
       "    .dataframe tbody tr th {\n",
       "        vertical-align: top;\n",
       "    }\n",
       "\n",
       "    .dataframe thead th {\n",
       "        text-align: right;\n",
       "    }\n",
       "</style>\n",
       "<table border=\"1\" class=\"dataframe\">\n",
       "  <thead>\n",
       "    <tr style=\"text-align: right;\">\n",
       "      <th></th>\n",
       "      <th>user_id</th>\n",
       "      <th>item_id</th>\n",
       "      <th>item_feature_id</th>\n",
       "      <th>rating</th>\n",
       "    </tr>\n",
       "  </thead>\n",
       "  <tbody>\n",
       "    <tr>\n",
       "      <th>0</th>\n",
       "      <td>0</td>\n",
       "      <td>33994</td>\n",
       "      <td>None</td>\n",
       "      <td>0</td>\n",
       "    </tr>\n",
       "    <tr>\n",
       "      <th>1</th>\n",
       "      <td>0</td>\n",
       "      <td>35239</td>\n",
       "      <td>None</td>\n",
       "      <td>0</td>\n",
       "    </tr>\n",
       "    <tr>\n",
       "      <th>2</th>\n",
       "      <td>0</td>\n",
       "      <td>31314</td>\n",
       "      <td>None</td>\n",
       "      <td>0</td>\n",
       "    </tr>\n",
       "    <tr>\n",
       "      <th>3</th>\n",
       "      <td>0</td>\n",
       "      <td>32651</td>\n",
       "      <td>None</td>\n",
       "      <td>0</td>\n",
       "    </tr>\n",
       "    <tr>\n",
       "      <th>4</th>\n",
       "      <td>0</td>\n",
       "      <td>17531</td>\n",
       "      <td>None</td>\n",
       "      <td>0</td>\n",
       "    </tr>\n",
       "    <tr>\n",
       "      <th>...</th>\n",
       "      <td>...</td>\n",
       "      <td>...</td>\n",
       "      <td>...</td>\n",
       "      <td>...</td>\n",
       "    </tr>\n",
       "    <tr>\n",
       "      <th>970240</th>\n",
       "      <td>200152</td>\n",
       "      <td>37105</td>\n",
       "      <td>None</td>\n",
       "      <td>0</td>\n",
       "    </tr>\n",
       "    <tr>\n",
       "      <th>970241</th>\n",
       "      <td>200152</td>\n",
       "      <td>21124</td>\n",
       "      <td>None</td>\n",
       "      <td>0</td>\n",
       "    </tr>\n",
       "    <tr>\n",
       "      <th>970242</th>\n",
       "      <td>200152</td>\n",
       "      <td>27424</td>\n",
       "      <td>None</td>\n",
       "      <td>0</td>\n",
       "    </tr>\n",
       "    <tr>\n",
       "      <th>970243</th>\n",
       "      <td>200152</td>\n",
       "      <td>16072</td>\n",
       "      <td>None</td>\n",
       "      <td>0</td>\n",
       "    </tr>\n",
       "    <tr>\n",
       "      <th>970244</th>\n",
       "      <td>200152</td>\n",
       "      <td>4134</td>\n",
       "      <td>None</td>\n",
       "      <td>0</td>\n",
       "    </tr>\n",
       "  </tbody>\n",
       "</table>\n",
       "<p>970245 rows × 4 columns</p>\n",
       "</div>"
      ],
      "text/plain": [
       "        user_id  item_id item_feature_id  rating\n",
       "0             0    33994            None       0\n",
       "1             0    35239            None       0\n",
       "2             0    31314            None       0\n",
       "3             0    32651            None       0\n",
       "4             0    17531            None       0\n",
       "...         ...      ...             ...     ...\n",
       "970240   200152    37105            None       0\n",
       "970241   200152    21124            None       0\n",
       "970242   200152    27424            None       0\n",
       "970243   200152    16072            None       0\n",
       "970244   200152     4134            None       0\n",
       "\n",
       "[970245 rows x 4 columns]"
      ]
     },
     "execution_count": 894,
     "metadata": {},
     "output_type": "execute_result"
    }
   ],
   "source": [
    "val_df"
   ]
  },
  {
   "cell_type": "code",
   "execution_count": 895,
   "id": "62d9434e",
   "metadata": {
    "ExecuteTime": {
     "end_time": "2022-03-05T05:54:23.821332Z",
     "start_time": "2022-03-05T05:54:23.662636Z"
    }
   },
   "outputs": [],
   "source": [
    "neg_df = pd.merge(val_df.drop('item_feature_id',axis=1),df_items,on='item_id')"
   ]
  },
  {
   "cell_type": "code",
   "execution_count": 957,
   "id": "aed384cd",
   "metadata": {
    "ExecuteTime": {
     "end_time": "2022-03-05T06:35:11.838119Z",
     "start_time": "2022-03-05T06:35:11.807389Z"
    },
    "scrolled": true
   },
   "outputs": [
    {
     "data": {
      "text/html": [
       "<div>\n",
       "<style scoped>\n",
       "    .dataframe tbody tr th:only-of-type {\n",
       "        vertical-align: middle;\n",
       "    }\n",
       "\n",
       "    .dataframe tbody tr th {\n",
       "        vertical-align: top;\n",
       "    }\n",
       "\n",
       "    .dataframe thead th {\n",
       "        text-align: right;\n",
       "    }\n",
       "</style>\n",
       "<table border=\"1\" class=\"dataframe\">\n",
       "  <thead>\n",
       "    <tr style=\"text-align: right;\">\n",
       "      <th></th>\n",
       "      <th>user_id</th>\n",
       "      <th>item_id</th>\n",
       "      <th>rating</th>\n",
       "      <th>item_feature_id</th>\n",
       "    </tr>\n",
       "  </thead>\n",
       "  <tbody>\n",
       "    <tr>\n",
       "      <th>0</th>\n",
       "      <td>0</td>\n",
       "      <td>33994</td>\n",
       "      <td>0</td>\n",
       "      <td>168</td>\n",
       "    </tr>\n",
       "    <tr>\n",
       "      <th>1</th>\n",
       "      <td>3723</td>\n",
       "      <td>33994</td>\n",
       "      <td>0</td>\n",
       "      <td>168</td>\n",
       "    </tr>\n",
       "    <tr>\n",
       "      <th>2</th>\n",
       "      <td>5088</td>\n",
       "      <td>33994</td>\n",
       "      <td>0</td>\n",
       "      <td>168</td>\n",
       "    </tr>\n",
       "    <tr>\n",
       "      <th>3</th>\n",
       "      <td>7083</td>\n",
       "      <td>33994</td>\n",
       "      <td>0</td>\n",
       "      <td>168</td>\n",
       "    </tr>\n",
       "    <tr>\n",
       "      <th>4</th>\n",
       "      <td>10349</td>\n",
       "      <td>33994</td>\n",
       "      <td>0</td>\n",
       "      <td>168</td>\n",
       "    </tr>\n",
       "  </tbody>\n",
       "</table>\n",
       "</div>"
      ],
      "text/plain": [
       "   user_id  item_id  rating  item_feature_id\n",
       "0        0    33994       0              168\n",
       "1     3723    33994       0              168\n",
       "2     5088    33994       0              168\n",
       "3     7083    33994       0              168\n",
       "4    10349    33994       0              168"
      ]
     },
     "execution_count": 957,
     "metadata": {},
     "output_type": "execute_result"
    }
   ],
   "source": [
    "neg_df.head(5)"
   ]
  },
  {
   "cell_type": "code",
   "execution_count": 899,
   "id": "5705058d",
   "metadata": {
    "ExecuteTime": {
     "end_time": "2022-03-05T05:54:51.519880Z",
     "start_time": "2022-03-05T05:54:51.464330Z"
    },
    "scrolled": false
   },
   "outputs": [
    {
     "data": {
      "text/html": [
       "<div>\n",
       "<style scoped>\n",
       "    .dataframe tbody tr th:only-of-type {\n",
       "        vertical-align: middle;\n",
       "    }\n",
       "\n",
       "    .dataframe tbody tr th {\n",
       "        vertical-align: top;\n",
       "    }\n",
       "\n",
       "    .dataframe thead th {\n",
       "        text-align: right;\n",
       "    }\n",
       "</style>\n",
       "<table border=\"1\" class=\"dataframe\">\n",
       "  <thead>\n",
       "    <tr style=\"text-align: right;\">\n",
       "      <th></th>\n",
       "      <th>user_id</th>\n",
       "      <th>item_id</th>\n",
       "      <th>item_feature_id</th>\n",
       "      <th>rating</th>\n",
       "    </tr>\n",
       "  </thead>\n",
       "  <tbody>\n",
       "    <tr>\n",
       "      <th>0</th>\n",
       "      <td>0</td>\n",
       "      <td>28366</td>\n",
       "      <td>7</td>\n",
       "      <td>1</td>\n",
       "    </tr>\n",
       "    <tr>\n",
       "      <th>1</th>\n",
       "      <td>1731</td>\n",
       "      <td>28366</td>\n",
       "      <td>7</td>\n",
       "      <td>1</td>\n",
       "    </tr>\n",
       "    <tr>\n",
       "      <th>2</th>\n",
       "      <td>10168</td>\n",
       "      <td>28366</td>\n",
       "      <td>7</td>\n",
       "      <td>1</td>\n",
       "    </tr>\n",
       "    <tr>\n",
       "      <th>3</th>\n",
       "      <td>18883</td>\n",
       "      <td>28366</td>\n",
       "      <td>7</td>\n",
       "      <td>1</td>\n",
       "    </tr>\n",
       "    <tr>\n",
       "      <th>4</th>\n",
       "      <td>19763</td>\n",
       "      <td>28366</td>\n",
       "      <td>7</td>\n",
       "      <td>1</td>\n",
       "    </tr>\n",
       "    <tr>\n",
       "      <th>...</th>\n",
       "      <td>...</td>\n",
       "      <td>...</td>\n",
       "      <td>...</td>\n",
       "      <td>...</td>\n",
       "    </tr>\n",
       "    <tr>\n",
       "      <th>1940485</th>\n",
       "      <td>199678</td>\n",
       "      <td>16276</td>\n",
       "      <td>138</td>\n",
       "      <td>0</td>\n",
       "    </tr>\n",
       "    <tr>\n",
       "      <th>1940486</th>\n",
       "      <td>199704</td>\n",
       "      <td>11331</td>\n",
       "      <td>138</td>\n",
       "      <td>0</td>\n",
       "    </tr>\n",
       "    <tr>\n",
       "      <th>1940487</th>\n",
       "      <td>199917</td>\n",
       "      <td>416</td>\n",
       "      <td>142</td>\n",
       "      <td>0</td>\n",
       "    </tr>\n",
       "    <tr>\n",
       "      <th>1940488</th>\n",
       "      <td>200011</td>\n",
       "      <td>39633</td>\n",
       "      <td>55</td>\n",
       "      <td>0</td>\n",
       "    </tr>\n",
       "    <tr>\n",
       "      <th>1940489</th>\n",
       "      <td>200090</td>\n",
       "      <td>37795</td>\n",
       "      <td>176</td>\n",
       "      <td>0</td>\n",
       "    </tr>\n",
       "  </tbody>\n",
       "</table>\n",
       "<p>1940490 rows × 4 columns</p>\n",
       "</div>"
      ],
      "text/plain": [
       "         user_id  item_id  item_feature_id  rating\n",
       "0              0    28366                7       1\n",
       "1           1731    28366                7       1\n",
       "2          10168    28366                7       1\n",
       "3          18883    28366                7       1\n",
       "4          19763    28366                7       1\n",
       "...          ...      ...              ...     ...\n",
       "1940485   199678    16276              138       0\n",
       "1940486   199704    11331              138       0\n",
       "1940487   199917      416              142       0\n",
       "1940488   200011    39633               55       0\n",
       "1940489   200090    37795              176       0\n",
       "\n",
       "[1940490 rows x 4 columns]"
      ]
     },
     "execution_count": 899,
     "metadata": {},
     "output_type": "execute_result"
    }
   ],
   "source": [
    "df_new = pd.concat([df,neg_df])\n",
    "df_new.reset_index(drop=True, inplace=True)\n",
    "df_new"
   ]
  },
  {
   "cell_type": "code",
   "execution_count": 900,
   "id": "3777a3c0",
   "metadata": {
    "ExecuteTime": {
     "end_time": "2022-03-05T05:54:52.410214Z",
     "start_time": "2022-03-05T05:54:52.137402Z"
    }
   },
   "outputs": [],
   "source": [
    "df_new = df_new.drop_duplicates(\n",
    "  subset = ['user_id','item_id'],\n",
    "  keep = 'first').reset_index(drop = True)"
   ]
  },
  {
   "cell_type": "markdown",
   "id": "c525a0ce",
   "metadata": {},
   "source": [
    "## Cold start user training by setting random users to 0"
   ]
  },
  {
   "cell_type": "code",
   "execution_count": 902,
   "id": "1798b514",
   "metadata": {
    "ExecuteTime": {
     "end_time": "2022-03-05T05:54:56.611714Z",
     "start_time": "2022-03-05T05:54:56.596134Z"
    }
   },
   "outputs": [],
   "source": [
    "#Increase user id by 1 to make unk at 0 position\n",
    "df_new['user_id'] = df_new.user_id.values+1"
   ]
  },
  {
   "cell_type": "code",
   "execution_count": 903,
   "id": "5c17b3f1",
   "metadata": {
    "ExecuteTime": {
     "end_time": "2022-03-05T05:54:57.804682Z",
     "start_time": "2022-03-05T05:54:57.482835Z"
    }
   },
   "outputs": [],
   "source": [
    "#Splitting into train and validation set\n",
    "train = df_new.sample(frac=0.8, random_state=25)\n",
    "val = df_new.drop(train.index)"
   ]
  },
  {
   "cell_type": "code",
   "execution_count": 904,
   "id": "1935685d",
   "metadata": {
    "ExecuteTime": {
     "end_time": "2022-03-05T05:54:58.579621Z",
     "start_time": "2022-03-05T05:54:58.338327Z"
    },
    "scrolled": true
   },
   "outputs": [],
   "source": [
    "test_unk = len(set(df_test.user_id.values) - set(df_new.user_id.values))/len(set(df_test.user_id.values))"
   ]
  },
  {
   "cell_type": "code",
   "execution_count": 905,
   "id": "9f7ebeed",
   "metadata": {
    "ExecuteTime": {
     "end_time": "2022-03-05T05:54:59.211941Z",
     "start_time": "2022-03-05T05:54:59.205216Z"
    }
   },
   "outputs": [
    {
     "data": {
      "text/plain": [
       "0.1539639378019483"
      ]
     },
     "execution_count": 905,
     "metadata": {},
     "output_type": "execute_result"
    }
   ],
   "source": [
    "test_unk"
   ]
  },
  {
   "cell_type": "code",
   "execution_count": 906,
   "id": "ece37336",
   "metadata": {
    "ExecuteTime": {
     "end_time": "2022-03-05T05:54:59.997006Z",
     "start_time": "2022-03-05T05:54:59.828707Z"
    }
   },
   "outputs": [
    {
     "data": {
      "text/plain": [
       "26121"
      ]
     },
     "execution_count": 906,
     "metadata": {},
     "output_type": "execute_result"
    }
   ],
   "source": [
    "num_user_unk = int(len(set(train.user_id.values))*test_unk)\n",
    "num_user_unk"
   ]
  },
  {
   "cell_type": "code",
   "execution_count": 907,
   "id": "0aa7050d",
   "metadata": {
    "ExecuteTime": {
     "end_time": "2022-03-05T05:55:00.816298Z",
     "start_time": "2022-03-05T05:55:00.805221Z"
    }
   },
   "outputs": [
    {
     "data": {
      "text/plain": [
       "array([ 194753,  106760,  682633, ...,  475268,  723151, 1095614])"
      ]
     },
     "execution_count": 907,
     "metadata": {},
     "output_type": "execute_result"
    }
   ],
   "source": [
    "idx = np.random.randint(0,train.shape[0],size = int(num_user_unk*1.5))\n",
    "idx"
   ]
  },
  {
   "cell_type": "code",
   "execution_count": 911,
   "id": "035d8214",
   "metadata": {
    "ExecuteTime": {
     "end_time": "2022-03-05T05:55:03.816363Z",
     "start_time": "2022-03-05T05:55:03.796400Z"
    }
   },
   "outputs": [],
   "source": [
    "train_unk = train.iloc[idx].copy()"
   ]
  },
  {
   "cell_type": "code",
   "execution_count": 912,
   "id": "500f096d",
   "metadata": {
    "ExecuteTime": {
     "end_time": "2022-03-05T05:55:04.118338Z",
     "start_time": "2022-03-05T05:55:04.113553Z"
    }
   },
   "outputs": [],
   "source": [
    "train_unk.iloc[:,0] = 0"
   ]
  },
  {
   "cell_type": "code",
   "execution_count": 913,
   "id": "39fce9af",
   "metadata": {
    "ExecuteTime": {
     "end_time": "2022-03-05T05:55:04.525319Z",
     "start_time": "2022-03-05T05:55:04.506745Z"
    }
   },
   "outputs": [
    {
     "data": {
      "text/html": [
       "<div>\n",
       "<style scoped>\n",
       "    .dataframe tbody tr th:only-of-type {\n",
       "        vertical-align: middle;\n",
       "    }\n",
       "\n",
       "    .dataframe tbody tr th {\n",
       "        vertical-align: top;\n",
       "    }\n",
       "\n",
       "    .dataframe thead th {\n",
       "        text-align: right;\n",
       "    }\n",
       "</style>\n",
       "<table border=\"1\" class=\"dataframe\">\n",
       "  <thead>\n",
       "    <tr style=\"text-align: right;\">\n",
       "      <th></th>\n",
       "      <th>user_id</th>\n",
       "      <th>item_id</th>\n",
       "      <th>item_feature_id</th>\n",
       "      <th>rating</th>\n",
       "    </tr>\n",
       "  </thead>\n",
       "  <tbody>\n",
       "    <tr>\n",
       "      <th>1812659</th>\n",
       "      <td>0</td>\n",
       "      <td>27052</td>\n",
       "      <td>138</td>\n",
       "      <td>0</td>\n",
       "    </tr>\n",
       "    <tr>\n",
       "      <th>1084908</th>\n",
       "      <td>0</td>\n",
       "      <td>21277</td>\n",
       "      <td>148</td>\n",
       "      <td>0</td>\n",
       "    </tr>\n",
       "    <tr>\n",
       "      <th>11192</th>\n",
       "      <td>0</td>\n",
       "      <td>11275</td>\n",
       "      <td>139</td>\n",
       "      <td>1</td>\n",
       "    </tr>\n",
       "    <tr>\n",
       "      <th>568950</th>\n",
       "      <td>0</td>\n",
       "      <td>21095</td>\n",
       "      <td>20</td>\n",
       "      <td>1</td>\n",
       "    </tr>\n",
       "    <tr>\n",
       "      <th>1559612</th>\n",
       "      <td>0</td>\n",
       "      <td>29940</td>\n",
       "      <td>18</td>\n",
       "      <td>0</td>\n",
       "    </tr>\n",
       "    <tr>\n",
       "      <th>...</th>\n",
       "      <td>...</td>\n",
       "      <td>...</td>\n",
       "      <td>...</td>\n",
       "      <td>...</td>\n",
       "    </tr>\n",
       "    <tr>\n",
       "      <th>627074</th>\n",
       "      <td>0</td>\n",
       "      <td>23310</td>\n",
       "      <td>129</td>\n",
       "      <td>1</td>\n",
       "    </tr>\n",
       "    <tr>\n",
       "      <th>37905</th>\n",
       "      <td>0</td>\n",
       "      <td>27433</td>\n",
       "      <td>138</td>\n",
       "      <td>1</td>\n",
       "    </tr>\n",
       "    <tr>\n",
       "      <th>790655</th>\n",
       "      <td>0</td>\n",
       "      <td>35714</td>\n",
       "      <td>6</td>\n",
       "      <td>1</td>\n",
       "    </tr>\n",
       "    <tr>\n",
       "      <th>850415</th>\n",
       "      <td>0</td>\n",
       "      <td>8451</td>\n",
       "      <td>139</td>\n",
       "      <td>1</td>\n",
       "    </tr>\n",
       "    <tr>\n",
       "      <th>413227</th>\n",
       "      <td>0</td>\n",
       "      <td>34149</td>\n",
       "      <td>2</td>\n",
       "      <td>1</td>\n",
       "    </tr>\n",
       "  </tbody>\n",
       "</table>\n",
       "<p>39181 rows × 4 columns</p>\n",
       "</div>"
      ],
      "text/plain": [
       "         user_id  item_id  item_feature_id  rating\n",
       "1812659        0    27052              138       0\n",
       "1084908        0    21277              148       0\n",
       "11192          0    11275              139       1\n",
       "568950         0    21095               20       1\n",
       "1559612        0    29940               18       0\n",
       "...          ...      ...              ...     ...\n",
       "627074         0    23310              129       1\n",
       "37905          0    27433              138       1\n",
       "790655         0    35714                6       1\n",
       "850415         0     8451              139       1\n",
       "413227         0    34149                2       1\n",
       "\n",
       "[39181 rows x 4 columns]"
      ]
     },
     "execution_count": 913,
     "metadata": {},
     "output_type": "execute_result"
    }
   ],
   "source": [
    "train_unk"
   ]
  },
  {
   "cell_type": "code",
   "execution_count": 914,
   "id": "0cbf05b2",
   "metadata": {
    "ExecuteTime": {
     "end_time": "2022-03-05T05:55:04.929680Z",
     "start_time": "2022-03-05T05:55:04.897050Z"
    }
   },
   "outputs": [],
   "source": [
    "train = pd.concat([train,train_unk]) "
   ]
  },
  {
   "cell_type": "code",
   "execution_count": 915,
   "id": "45b38e2f",
   "metadata": {
    "ExecuteTime": {
     "end_time": "2022-03-05T05:55:05.333053Z",
     "start_time": "2022-03-05T05:55:05.314803Z"
    },
    "scrolled": true
   },
   "outputs": [
    {
     "data": {
      "text/html": [
       "<div>\n",
       "<style scoped>\n",
       "    .dataframe tbody tr th:only-of-type {\n",
       "        vertical-align: middle;\n",
       "    }\n",
       "\n",
       "    .dataframe tbody tr th {\n",
       "        vertical-align: top;\n",
       "    }\n",
       "\n",
       "    .dataframe thead th {\n",
       "        text-align: right;\n",
       "    }\n",
       "</style>\n",
       "<table border=\"1\" class=\"dataframe\">\n",
       "  <thead>\n",
       "    <tr style=\"text-align: right;\">\n",
       "      <th></th>\n",
       "      <th>user_id</th>\n",
       "      <th>item_id</th>\n",
       "      <th>item_feature_id</th>\n",
       "      <th>rating</th>\n",
       "    </tr>\n",
       "  </thead>\n",
       "  <tbody>\n",
       "    <tr>\n",
       "      <th>1801164</th>\n",
       "      <td>98468</td>\n",
       "      <td>372</td>\n",
       "      <td>11</td>\n",
       "      <td>0</td>\n",
       "    </tr>\n",
       "    <tr>\n",
       "      <th>1486763</th>\n",
       "      <td>79460</td>\n",
       "      <td>3673</td>\n",
       "      <td>11</td>\n",
       "      <td>0</td>\n",
       "    </tr>\n",
       "    <tr>\n",
       "      <th>881749</th>\n",
       "      <td>184206</td>\n",
       "      <td>25035</td>\n",
       "      <td>111</td>\n",
       "      <td>0</td>\n",
       "    </tr>\n",
       "    <tr>\n",
       "      <th>846061</th>\n",
       "      <td>79268</td>\n",
       "      <td>18986</td>\n",
       "      <td>154</td>\n",
       "      <td>1</td>\n",
       "    </tr>\n",
       "    <tr>\n",
       "      <th>1404311</th>\n",
       "      <td>195051</td>\n",
       "      <td>24040</td>\n",
       "      <td>142</td>\n",
       "      <td>0</td>\n",
       "    </tr>\n",
       "    <tr>\n",
       "      <th>...</th>\n",
       "      <td>...</td>\n",
       "      <td>...</td>\n",
       "      <td>...</td>\n",
       "      <td>...</td>\n",
       "    </tr>\n",
       "    <tr>\n",
       "      <th>627074</th>\n",
       "      <td>0</td>\n",
       "      <td>23310</td>\n",
       "      <td>129</td>\n",
       "      <td>1</td>\n",
       "    </tr>\n",
       "    <tr>\n",
       "      <th>37905</th>\n",
       "      <td>0</td>\n",
       "      <td>27433</td>\n",
       "      <td>138</td>\n",
       "      <td>1</td>\n",
       "    </tr>\n",
       "    <tr>\n",
       "      <th>790655</th>\n",
       "      <td>0</td>\n",
       "      <td>35714</td>\n",
       "      <td>6</td>\n",
       "      <td>1</td>\n",
       "    </tr>\n",
       "    <tr>\n",
       "      <th>850415</th>\n",
       "      <td>0</td>\n",
       "      <td>8451</td>\n",
       "      <td>139</td>\n",
       "      <td>1</td>\n",
       "    </tr>\n",
       "    <tr>\n",
       "      <th>413227</th>\n",
       "      <td>0</td>\n",
       "      <td>34149</td>\n",
       "      <td>2</td>\n",
       "      <td>1</td>\n",
       "    </tr>\n",
       "  </tbody>\n",
       "</table>\n",
       "<p>1505663 rows × 4 columns</p>\n",
       "</div>"
      ],
      "text/plain": [
       "         user_id  item_id  item_feature_id  rating\n",
       "1801164    98468      372               11       0\n",
       "1486763    79460     3673               11       0\n",
       "881749    184206    25035              111       0\n",
       "846061     79268    18986              154       1\n",
       "1404311   195051    24040              142       0\n",
       "...          ...      ...              ...     ...\n",
       "627074         0    23310              129       1\n",
       "37905          0    27433              138       1\n",
       "790655         0    35714                6       1\n",
       "850415         0     8451              139       1\n",
       "413227         0    34149                2       1\n",
       "\n",
       "[1505663 rows x 4 columns]"
      ]
     },
     "execution_count": 915,
     "metadata": {},
     "output_type": "execute_result"
    }
   ],
   "source": [
    "train"
   ]
  },
  {
   "cell_type": "markdown",
   "id": "92e4a43d",
   "metadata": {},
   "source": [
    "## Dataloader implementation"
   ]
  },
  {
   "cell_type": "code",
   "execution_count": 922,
   "id": "fa26c770",
   "metadata": {
    "ExecuteTime": {
     "end_time": "2022-03-05T05:58:30.331899Z",
     "start_time": "2022-03-05T05:58:30.306539Z"
    }
   },
   "outputs": [],
   "source": [
    "class user_feature_dataset(Dataset):\n",
    "    def __init__(self,train):\n",
    "        u = torch.LongTensor(train.user_id.values)\n",
    "        v = torch.LongTensor(train.item_id.values)\n",
    "        features = torch.LongTensor(train.item_feature_id.values)\n",
    "        ratings = torch.FloatTensor(train.rating.values) \n",
    "        self.u, self.v, self.features, self.ratings = u, v, features, ratings\n",
    "        \n",
    "    def __len__(self):\n",
    "        return len(self.ratings)\n",
    "    def __getitem__(self, idx):\n",
    "        return self.u[idx],self.v[idx],self.features[idx], self.ratings[idx]"
   ]
  },
  {
   "cell_type": "code",
   "execution_count": 924,
   "id": "7c028fe2",
   "metadata": {
    "ExecuteTime": {
     "end_time": "2022-03-05T05:58:31.998731Z",
     "start_time": "2022-03-05T05:58:31.987174Z"
    }
   },
   "outputs": [],
   "source": [
    "train_ds = user_feature_dataset(train)\n",
    "valid_ds = user_feature_dataset(val)\n",
    "\n",
    "train_dl = DataLoader(train_ds, batch_size=100000)\n",
    "valid_dl = DataLoader(valid_ds, batch_size=100000)"
   ]
  },
  {
   "cell_type": "markdown",
   "id": "b52347a5",
   "metadata": {},
   "source": [
    "## Model 1 without using extra features"
   ]
  },
  {
   "cell_type": "code",
   "execution_count": 925,
   "id": "8fb7abd0",
   "metadata": {
    "ExecuteTime": {
     "end_time": "2022-03-05T05:58:44.213908Z",
     "start_time": "2022-03-05T05:58:44.192977Z"
    }
   },
   "outputs": [],
   "source": [
    "class MF_bias(nn.Module):\n",
    "    def __init__(self, num_users, num_items, emb_size=100, p=0.5):\n",
    "        super(MF_bias, self).__init__()\n",
    "        self.user_emb = nn.Embedding(num_users, emb_size)\n",
    "        self.user_bias = nn.Embedding(num_users, 1)\n",
    "        self.item_emb = nn.Embedding(num_items, emb_size)\n",
    "        self.item_bias = nn.Embedding(num_items, 1)\n",
    "        # init \n",
    "        self.user_emb.weight.data.uniform_(0,0.05)\n",
    "        self.item_emb.weight.data.uniform_(0,0.05)\n",
    "        self.user_bias.weight.data.uniform_(-0.01,0.01)\n",
    "        self.item_bias.weight.data.uniform_(-0.01,0.01)\n",
    "        \n",
    "        self.linear1 = nn.Linear(emb_size*2, 30)\n",
    "        self.relu = nn.ReLU()\n",
    "        self.dropout = nn.Dropout(p)\n",
    "        self.linear2 = nn.Linear(30,1)\n",
    "    def forward(self, u, v):\n",
    "        U = self.user_emb(u)\n",
    "        V = self.item_emb(v)\n",
    "        b_u = self.user_bias(u).squeeze()\n",
    "        b_v = self.item_bias(v).squeeze()\n",
    "        x = self.linear1(torch.cat((U,V),1))\n",
    "        x = self.relu(x)\n",
    "        x = self.dropout(x)\n",
    "        x = self.linear2(x)\n",
    "        return x"
   ]
  },
  {
   "cell_type": "code",
   "execution_count": 926,
   "id": "a16475e1",
   "metadata": {
    "ExecuteTime": {
     "end_time": "2022-03-05T05:58:44.695419Z",
     "start_time": "2022-03-05T05:58:44.681305Z"
    }
   },
   "outputs": [],
   "source": [
    "def train_epocs1(model, epochs=10, lr=0.01, wd=0.0):\n",
    "    optimizer = torch.optim.Adam(model.parameters(), lr=lr,\n",
    "                                 weight_decay=wd)\n",
    "    for i in range(epochs):\n",
    "        model.train()\n",
    "        users = torch.LongTensor(train.user_id.values)\n",
    "        items = torch.LongTensor(train.item_id.values) \n",
    "        ratings = torch.FloatTensor(train.rating.values)  \n",
    "    \n",
    "        y_hat = model(users, items)\n",
    "        loss = F.binary_cross_entropy_with_logits(y_hat, ratings.unsqueeze(-1)) # binary cross entropy with logits\n",
    "        optimizer.zero_grad()\n",
    "        loss.backward()\n",
    "        optimizer.step()\n",
    "        testloss = valid_loss1(model)\n",
    "        if i%10 ==0:\n",
    "            print(\"train loss %.3f valid loss %.3f\" % (loss.item(), testloss)) \n"
   ]
  },
  {
   "cell_type": "code",
   "execution_count": 927,
   "id": "218ec134",
   "metadata": {
    "ExecuteTime": {
     "end_time": "2022-03-05T05:58:45.139491Z",
     "start_time": "2022-03-05T05:58:45.131368Z"
    }
   },
   "outputs": [],
   "source": [
    "def valid_loss1(model):\n",
    "    model.eval()\n",
    "    users = torch.LongTensor(val.user_id.values) # .cuda()\n",
    "    items = torch.LongTensor(val.item_id.values) #.cuda()\n",
    "    ratings = torch.FloatTensor(val.rating.values) #.cuda()\n",
    "    y_hat = model(users, items)\n",
    "    loss = F.binary_cross_entropy_with_logits(y_hat, ratings.unsqueeze(-1))\n",
    "    return loss.item()"
   ]
  },
  {
   "cell_type": "code",
   "execution_count": 928,
   "id": "dd7d2ae3",
   "metadata": {
    "ExecuteTime": {
     "end_time": "2022-03-05T05:58:45.690539Z",
     "start_time": "2022-03-05T05:58:45.674427Z"
    }
   },
   "outputs": [],
   "source": [
    "def train_epocs1(model, epochs=10, lr=0.01, wd=0.0):\n",
    "    optimizer = torch.optim.Adam(model.parameters(), lr=lr,\n",
    "                                 weight_decay=wd)\n",
    "    losses = []\n",
    "    for i in range(epochs):\n",
    "        for users, items, features, ratings in train_dl: \n",
    "            model.train()  \n",
    "            y_hat = model(users, items)\n",
    "            loss = F.binary_cross_entropy_with_logits(y_hat, ratings.unsqueeze(-1)) # binary cross entropy with logits\n",
    "            optimizer.zero_grad()\n",
    "            loss.backward()\n",
    "            optimizer.step()\n",
    "            losses.append(loss.item())\n",
    "        train_loss = np.mean(losses)\n",
    "        testloss = valid_loss1(model)\n",
    "        print(\"train loss %.3f valid loss %.3f\" % (train_loss, testloss)) \n",
    "            \n",
    "            \n",
    "def valid_loss1(model):\n",
    "    model.eval()\n",
    "    losses = []\n",
    "    for users, items, features, ratings in valid_dl: \n",
    "        y_hat = model(users, items)\n",
    "        loss = F.binary_cross_entropy_with_logits(y_hat, ratings.unsqueeze(-1))\n",
    "        losses.append(loss.item())\n",
    "    val_loss = np.mean(losses)\n",
    "    return val_loss"
   ]
  },
  {
   "cell_type": "code",
   "execution_count": 929,
   "id": "a8a950c0",
   "metadata": {
    "ExecuteTime": {
     "end_time": "2022-03-05T05:58:46.449551Z",
     "start_time": "2022-03-05T05:58:46.419544Z"
    },
    "scrolled": false
   },
   "outputs": [
    {
     "name": "stdout",
     "output_type": "stream",
     "text": [
      "200154 39901\n"
     ]
    }
   ],
   "source": [
    "num_users = df_new.user_id.max()+1\n",
    "num_items = df_new.item_id.max()+1\n",
    "print(num_users, num_items) "
   ]
  },
  {
   "cell_type": "code",
   "execution_count": 954,
   "id": "6b9d308e",
   "metadata": {
    "ExecuteTime": {
     "end_time": "2022-03-05T06:26:06.807216Z",
     "start_time": "2022-03-05T06:24:59.738750Z"
    },
    "scrolled": false
   },
   "outputs": [
    {
     "name": "stdout",
     "output_type": "stream",
     "text": [
      "train loss 0.693 valid loss 0.688\n",
      "train loss 0.686 valid loss 0.667\n",
      "train loss 0.674 valid loss 0.622\n"
     ]
    }
   ],
   "source": [
    "model = MF_bias(num_users, num_items, emb_size=30, p=0.5)\n",
    "train_epocs1(model, epochs=3, lr=0.001, wd=1e-5)"
   ]
  },
  {
   "cell_type": "markdown",
   "id": "bd7bbad1",
   "metadata": {},
   "source": [
    "## Model 2 with extra feature"
   ]
  },
  {
   "cell_type": "code",
   "execution_count": 806,
   "id": "599850f3",
   "metadata": {
    "ExecuteTime": {
     "end_time": "2022-03-05T05:04:20.007680Z",
     "start_time": "2022-03-05T05:04:19.988136Z"
    }
   },
   "outputs": [],
   "source": [
    "class MF_extra(nn.Module):\n",
    "    def __init__(self, num_users, num_items,num_features, emb_size=100, p=0.5):\n",
    "        super(MF_extra, self).__init__()\n",
    "        self.user_emb = nn.Embedding(num_users, emb_size)\n",
    "        self.item_emb = nn.Embedding(num_items, emb_size)\n",
    "        self.feature_emb = nn.Embedding(num_features,emb_size)\n",
    "        # init \n",
    "        self.user_emb.weight.data.uniform_(0,0.05)\n",
    "        self.item_emb.weight.data.uniform_(0,0.05)\n",
    "        self.feature_emb.weight.data.uniform_(0,0.05)\n",
    "        \n",
    "        self.linear1 = nn.Linear(emb_size*3, 30)\n",
    "        self.relu = nn.ReLU()\n",
    "        self.dropout = nn.Dropout(p)\n",
    "        self.linear2 = nn.Linear(30,1)\n",
    "    def forward(self, u, v, f):\n",
    "        U = self.user_emb(u)\n",
    "        V = self.item_emb(v)\n",
    "        Fe = self.feature_emb(f)\n",
    "        x = self.linear1(torch.cat((U,V,Fe),1))\n",
    "        x = self.relu(x)\n",
    "        x = self.dropout(x)\n",
    "        x = self.linear2(x)\n",
    "        return x"
   ]
  },
  {
   "cell_type": "code",
   "execution_count": 807,
   "id": "89d3f109",
   "metadata": {
    "ExecuteTime": {
     "end_time": "2022-03-05T05:04:20.570897Z",
     "start_time": "2022-03-05T05:04:20.552335Z"
    }
   },
   "outputs": [
    {
     "name": "stdout",
     "output_type": "stream",
     "text": [
      "200154 39901 195\n"
     ]
    }
   ],
   "source": [
    "num_users = df_new.user_id.max()+1\n",
    "num_items = df_new.item_id.max()+1\n",
    "num_features = len(np.unique(df_items.item_feature_id))\n",
    "print(num_users, num_items,num_features) "
   ]
  },
  {
   "cell_type": "code",
   "execution_count": 808,
   "id": "eb456556",
   "metadata": {
    "ExecuteTime": {
     "end_time": "2022-03-05T05:04:21.351460Z",
     "start_time": "2022-03-05T05:04:21.334387Z"
    }
   },
   "outputs": [],
   "source": [
    "def train_epocs2(model, epochs=10, lr=0.01, wd=0.0):\n",
    "    optimizer = torch.optim.Adam(model.parameters(), lr=lr,\n",
    "                                 weight_decay=wd)\n",
    "    losses = []\n",
    "    for i in range(epochs):\n",
    "        for users, items, features, ratings in train_dl: \n",
    "            model.train() \n",
    "            y_hat = model(users, items, features)\n",
    "            loss = F.binary_cross_entropy_with_logits(y_hat, ratings.unsqueeze(-1)) # binary cross entropy with logits\n",
    "            optimizer.zero_grad()\n",
    "            loss.backward()\n",
    "            optimizer.step()\n",
    "            losses.append(loss.item())\n",
    "        train_loss = np.mean(losses)\n",
    "        testloss = valid_loss2(model)\n",
    "        print(\"train loss %.3f valid loss %.3f\" % (train_loss, testloss)) \n",
    "            \n",
    "            \n",
    "def valid_loss2(model):\n",
    "    model.eval()\n",
    "    losses = []\n",
    "    for users, items, features, ratings in valid_dl: \n",
    "        y_hat = model(users, items, features)\n",
    "        loss = F.binary_cross_entropy_with_logits(y_hat, ratings.unsqueeze(-1))\n",
    "        losses.append(loss.item())\n",
    "    val_loss = np.mean(losses)\n",
    "    return val_loss"
   ]
  },
  {
   "cell_type": "code",
   "execution_count": 816,
   "id": "1ebf6c21",
   "metadata": {
    "ExecuteTime": {
     "end_time": "2022-03-05T05:19:19.121011Z",
     "start_time": "2022-03-05T05:18:15.097726Z"
    },
    "scrolled": false
   },
   "outputs": [
    {
     "name": "stdout",
     "output_type": "stream",
     "text": [
      "train loss 0.595 valid loss 0.380\n",
      "train loss 0.485 valid loss 0.346\n",
      "train loss 0.434 valid loss 0.343\n"
     ]
    }
   ],
   "source": [
    "model = MF_extra(num_users, num_items,num_features, emb_size=30)\n",
    "train_epocs2(model, epochs=3, lr=0.01, wd=1e-5)"
   ]
  },
  {
   "cell_type": "markdown",
   "id": "afeb5926",
   "metadata": {},
   "source": [
    "# Hyper parameters search"
   ]
  },
  {
   "cell_type": "markdown",
   "id": "2de0669d",
   "metadata": {},
   "source": [
    "## Learning rate"
   ]
  },
  {
   "cell_type": "code",
   "execution_count": 282,
   "id": "440826ca",
   "metadata": {
    "ExecuteTime": {
     "end_time": "2022-02-27T21:37:35.927030Z",
     "start_time": "2022-02-27T21:37:12.498457Z"
    },
    "scrolled": true
   },
   "outputs": [
    {
     "name": "stdout",
     "output_type": "stream",
     "text": [
      "train loss 0.661 valid loss 1.932\n",
      "train loss 0.601 valid loss 0.427\n",
      "train loss 0.502 valid loss 0.469\n",
      "train loss 0.403 valid loss 0.487\n",
      "train loss 0.403 valid loss 0.446\n",
      "train loss 0.380 valid loss 0.435\n",
      "train loss 0.368 valid loss 0.416\n",
      "train loss 0.354 valid loss 0.400\n",
      "train loss 0.341 valid loss 0.394\n",
      "train loss 0.332 valid loss 0.395\n",
      "train loss 0.327 valid loss 0.402\n",
      "train loss 0.326 valid loss 0.403\n",
      "train loss 0.324 valid loss 0.401\n",
      "train loss 0.320 valid loss 0.396\n"
     ]
    }
   ],
   "source": [
    "# learning rate 1\n",
    "model = MF_bias(num_users, num_items, emb_size=3)\n",
    "train_epocs1(model, epochs=140, lr=1, wd=1e-5)"
   ]
  },
  {
   "cell_type": "code",
   "execution_count": 284,
   "id": "c2fa419f",
   "metadata": {
    "ExecuteTime": {
     "end_time": "2022-02-27T21:44:00.300199Z",
     "start_time": "2022-02-27T21:43:35.752617Z"
    }
   },
   "outputs": [
    {
     "name": "stdout",
     "output_type": "stream",
     "text": [
      "train loss 0.766 valid loss 0.690\n",
      "train loss 0.353 valid loss 0.383\n",
      "train loss 0.252 valid loss 0.389\n",
      "train loss 0.225 valid loss 0.389\n",
      "train loss 0.191 valid loss 0.452\n",
      "train loss 0.186 valid loss 0.496\n",
      "train loss 0.184 valid loss 0.540\n",
      "train loss 0.183 valid loss 0.573\n",
      "train loss 0.185 valid loss 0.589\n",
      "train loss 0.186 valid loss 0.609\n",
      "train loss 0.186 valid loss 0.626\n",
      "train loss 0.187 valid loss 0.637\n",
      "train loss 0.187 valid loss 0.649\n",
      "train loss 0.188 valid loss 0.659\n"
     ]
    }
   ],
   "source": [
    "# learning rate 0.1\n",
    "model = MF_bias(num_users, num_items, emb_size=3)\n",
    "train_epocs1(model, epochs=140, lr=0.1, wd=1e-5)"
   ]
  },
  {
   "cell_type": "code",
   "execution_count": 285,
   "id": "127174e0",
   "metadata": {
    "ExecuteTime": {
     "end_time": "2022-02-27T21:44:24.594481Z",
     "start_time": "2022-02-27T21:44:00.301614Z"
    }
   },
   "outputs": [
    {
     "name": "stdout",
     "output_type": "stream",
     "text": [
      "train loss 0.647 valid loss 0.644\n",
      "train loss 0.628 valid loss 0.623\n",
      "train loss 0.581 valid loss 0.573\n",
      "train loss 0.494 valid loss 0.484\n",
      "train loss 0.432 valid loss 0.427\n",
      "train loss 0.391 valid loss 0.408\n",
      "train loss 0.357 valid loss 0.398\n",
      "train loss 0.329 valid loss 0.393\n",
      "train loss 0.304 valid loss 0.392\n",
      "train loss 0.280 valid loss 0.392\n",
      "train loss 0.252 valid loss 0.388\n",
      "train loss 0.229 valid loss 0.388\n",
      "train loss 0.217 valid loss 0.396\n",
      "train loss 0.212 valid loss 0.407\n"
     ]
    }
   ],
   "source": [
    "# learning rate 0.01\n",
    "model = MF_bias(num_users, num_items, emb_size=3)\n",
    "train_epocs1(model, epochs=140, lr=0.01, wd=1e-5)"
   ]
  },
  {
   "cell_type": "code",
   "execution_count": 286,
   "id": "8010ee44",
   "metadata": {
    "ExecuteTime": {
     "end_time": "2022-02-27T21:44:49.018568Z",
     "start_time": "2022-02-27T21:44:24.595312Z"
    }
   },
   "outputs": [
    {
     "name": "stdout",
     "output_type": "stream",
     "text": [
      "train loss 0.663 valid loss 0.663\n",
      "train loss 0.660 valid loss 0.660\n",
      "train loss 0.657 valid loss 0.657\n",
      "train loss 0.654 valid loss 0.654\n",
      "train loss 0.651 valid loss 0.651\n",
      "train loss 0.647 valid loss 0.647\n",
      "train loss 0.643 valid loss 0.643\n",
      "train loss 0.639 valid loss 0.639\n",
      "train loss 0.633 valid loss 0.634\n",
      "train loss 0.628 valid loss 0.629\n",
      "train loss 0.621 valid loss 0.623\n",
      "train loss 0.614 valid loss 0.616\n",
      "train loss 0.607 valid loss 0.608\n",
      "train loss 0.598 valid loss 0.600\n"
     ]
    }
   ],
   "source": [
    "# learning rate 0.001\n",
    "model = MF_bias(num_users, num_items, emb_size=3)\n",
    "train_epocs1(model, epochs=140, lr=0.001, wd=1e-5)"
   ]
  },
  {
   "cell_type": "markdown",
   "id": "8d64cab7",
   "metadata": {},
   "source": [
    "### Conclusion: LR 0.01 is enough to quickly converge to minimum loss. 1 and 0.1 would be too large and 0.001 would be too small"
   ]
  },
  {
   "cell_type": "markdown",
   "id": "db0dce90",
   "metadata": {
    "ExecuteTime": {
     "end_time": "2022-02-27T21:44:49.054729Z",
     "start_time": "2022-02-27T21:44:49.052539Z"
    }
   },
   "source": [
    "## Embedding Size"
   ]
  },
  {
   "cell_type": "code",
   "execution_count": 289,
   "id": "f0bc375a",
   "metadata": {
    "ExecuteTime": {
     "end_time": "2022-02-27T21:45:08.418421Z",
     "start_time": "2022-02-27T21:44:59.344390Z"
    }
   },
   "outputs": [
    {
     "name": "stdout",
     "output_type": "stream",
     "text": [
      "train loss 0.654 valid loss 0.651\n",
      "train loss 0.627 valid loss 0.623\n",
      "train loss 0.571 valid loss 0.563\n",
      "train loss 0.471 valid loss 0.457\n",
      "train loss 0.377 valid loss 0.362\n"
     ]
    }
   ],
   "source": [
    "# emb_size 3\n",
    "model = MF_bias(num_users, num_items, emb_size=3)\n",
    "train_epocs1(model, epochs=50, lr=0.01, wd=1e-5)"
   ]
  },
  {
   "cell_type": "code",
   "execution_count": 290,
   "id": "ed3e94a6",
   "metadata": {
    "ExecuteTime": {
     "end_time": "2022-02-27T21:45:18.962091Z",
     "start_time": "2022-02-27T21:45:08.419670Z"
    }
   },
   "outputs": [
    {
     "name": "stdout",
     "output_type": "stream",
     "text": [
      "train loss 0.710 valid loss 0.708\n",
      "train loss 0.679 valid loss 0.675\n",
      "train loss 0.627 valid loss 0.617\n",
      "train loss 0.547 valid loss 0.527\n",
      "train loss 0.473 valid loss 0.445\n"
     ]
    }
   ],
   "source": [
    "# emb_size 10\n",
    "model = MF_bias(num_users, num_items, emb_size=5)\n",
    "train_epocs1(model, epochs=50, lr=0.01, wd=1e-5)"
   ]
  },
  {
   "cell_type": "code",
   "execution_count": 291,
   "id": "a4f17607",
   "metadata": {
    "ExecuteTime": {
     "end_time": "2022-02-27T21:45:29.649977Z",
     "start_time": "2022-02-27T21:45:18.963036Z"
    }
   },
   "outputs": [
    {
     "name": "stdout",
     "output_type": "stream",
     "text": [
      "train loss 0.657 valid loss 0.653\n",
      "train loss 0.617 valid loss 0.610\n",
      "train loss 0.521 valid loss 0.509\n",
      "train loss 0.409 valid loss 0.403\n",
      "train loss 0.337 valid loss 0.355\n"
     ]
    }
   ],
   "source": [
    "# emb_size 50\n",
    "model = MF_bias(num_users, num_items, emb_size=5)\n",
    "train_epocs1(model, epochs=50, lr=0.01, wd=1e-5)"
   ]
  },
  {
   "cell_type": "code",
   "execution_count": 292,
   "id": "56bc4450",
   "metadata": {
    "ExecuteTime": {
     "end_time": "2022-02-27T21:45:40.468409Z",
     "start_time": "2022-02-27T21:45:29.651505Z"
    }
   },
   "outputs": [
    {
     "name": "stdout",
     "output_type": "stream",
     "text": [
      "train loss 0.727 valid loss 0.721\n",
      "train loss 0.675 valid loss 0.670\n",
      "train loss 0.603 valid loss 0.596\n",
      "train loss 0.494 valid loss 0.478\n",
      "train loss 0.404 valid loss 0.373\n"
     ]
    }
   ],
   "source": [
    "# emb_size 100\n",
    "model = MF_bias(num_users, num_items, emb_size=5)\n",
    "train_epocs1(model, epochs=50, lr=0.01, wd=1e-5)"
   ]
  },
  {
   "cell_type": "markdown",
   "id": "9e506c46",
   "metadata": {},
   "source": [
    "### Conclusion: Embedding size 50 is can converge to minimum loss."
   ]
  },
  {
   "cell_type": "markdown",
   "id": "2546a13c",
   "metadata": {},
   "source": [
    "## Dropout rate"
   ]
  },
  {
   "cell_type": "code",
   "execution_count": 295,
   "id": "e03848b1",
   "metadata": {
    "ExecuteTime": {
     "end_time": "2022-02-27T22:02:14.904990Z",
     "start_time": "2022-02-27T21:59:59.605427Z"
    }
   },
   "outputs": [
    {
     "name": "stdout",
     "output_type": "stream",
     "text": [
      "Dropout rate: 0.1\n",
      "train loss 0.737 valid loss 0.727\n",
      "train loss 0.588 valid loss 0.567\n",
      "train loss 0.344 valid loss 0.352\n",
      "train loss 0.252 valid loss 0.311\n",
      "train loss 0.201 valid loss 0.304\n",
      "Dropout rate: 0.5\n",
      "train loss 0.739 valid loss 0.728\n",
      "train loss 0.599 valid loss 0.577\n",
      "train loss 0.384 valid loss 0.357\n",
      "train loss 0.284 valid loss 0.310\n",
      "train loss 0.238 valid loss 0.310\n",
      "Dropout rate: 0.9\n",
      "train loss 0.664 valid loss 0.657\n",
      "train loss 0.576 valid loss 0.531\n",
      "train loss 0.511 valid loss 0.398\n",
      "train loss 0.477 valid loss 0.361\n",
      "train loss 0.463 valid loss 0.353\n"
     ]
    }
   ],
   "source": [
    "nb_epochs = 20\n",
    "learning_rate = 0.001\n",
    "p_vals = []\n",
    "for p in [0.1,0.5,0.9]:\n",
    "    print('Dropout rate:',p)\n",
    "    model = MF_bias(num_users, num_items, emb_size=50,p=p)\n",
    "    train_epocs1(model, epochs=50, lr=0.01, wd=1e-5)"
   ]
  },
  {
   "cell_type": "markdown",
   "id": "c16792fb",
   "metadata": {},
   "source": [
    "### Dropout rate of 0.5 achieves lowest validation loss"
   ]
  },
  {
   "cell_type": "markdown",
   "id": "6d84e861",
   "metadata": {},
   "source": [
    "## Generate submission file"
   ]
  },
  {
   "cell_type": "code",
   "execution_count": 943,
   "id": "f9df578b",
   "metadata": {
    "ExecuteTime": {
     "end_time": "2022-03-05T06:06:06.100117Z",
     "start_time": "2022-03-05T06:06:05.956640Z"
    }
   },
   "outputs": [
    {
     "data": {
      "text/html": [
       "<div>\n",
       "<style scoped>\n",
       "    .dataframe tbody tr th:only-of-type {\n",
       "        vertical-align: middle;\n",
       "    }\n",
       "\n",
       "    .dataframe tbody tr th {\n",
       "        vertical-align: top;\n",
       "    }\n",
       "\n",
       "    .dataframe thead th {\n",
       "        text-align: right;\n",
       "    }\n",
       "</style>\n",
       "<table border=\"1\" class=\"dataframe\">\n",
       "  <thead>\n",
       "    <tr style=\"text-align: right;\">\n",
       "      <th></th>\n",
       "      <th>id</th>\n",
       "      <th>user_id</th>\n",
       "      <th>item_id</th>\n",
       "    </tr>\n",
       "  </thead>\n",
       "  <tbody>\n",
       "    <tr>\n",
       "      <th>0</th>\n",
       "      <td>0</td>\n",
       "      <td>4</td>\n",
       "      <td>16835</td>\n",
       "    </tr>\n",
       "    <tr>\n",
       "      <th>1</th>\n",
       "      <td>1</td>\n",
       "      <td>4</td>\n",
       "      <td>22590</td>\n",
       "    </tr>\n",
       "    <tr>\n",
       "      <th>2</th>\n",
       "      <td>2</td>\n",
       "      <td>4</td>\n",
       "      <td>1978</td>\n",
       "    </tr>\n",
       "    <tr>\n",
       "      <th>3</th>\n",
       "      <td>3</td>\n",
       "      <td>4</td>\n",
       "      <td>28916</td>\n",
       "    </tr>\n",
       "    <tr>\n",
       "      <th>4</th>\n",
       "      <td>4</td>\n",
       "      <td>4</td>\n",
       "      <td>14427</td>\n",
       "    </tr>\n",
       "  </tbody>\n",
       "</table>\n",
       "</div>"
      ],
      "text/plain": [
       "   id  user_id  item_id\n",
       "0   0        4    16835\n",
       "1   1        4    22590\n",
       "2   2        4     1978\n",
       "3   3        4    28916\n",
       "4   4        4    14427"
      ]
     },
     "execution_count": 943,
     "metadata": {},
     "output_type": "execute_result"
    }
   ],
   "source": [
    "df_test_ = pd.read_csv('test_kaggle.csv')\n",
    "df_test_.drop('context_feature_id',inplace=True, axis=1)\n",
    "df_test_.head()"
   ]
  },
  {
   "cell_type": "code",
   "execution_count": 944,
   "id": "ebef2528",
   "metadata": {
    "ExecuteTime": {
     "end_time": "2022-03-05T06:06:06.856271Z",
     "start_time": "2022-03-05T06:06:06.843101Z"
    }
   },
   "outputs": [],
   "source": [
    "df_test_['user_id'] = df_test_.user_id.values+1"
   ]
  },
  {
   "cell_type": "code",
   "execution_count": 945,
   "id": "4c30162e",
   "metadata": {
    "ExecuteTime": {
     "end_time": "2022-03-05T06:06:07.968565Z",
     "start_time": "2022-03-05T06:06:07.759171Z"
    }
   },
   "outputs": [],
   "source": [
    "test_unk = list(set(df_test_.user_id.values)-set(train.user_id.values))"
   ]
  },
  {
   "cell_type": "code",
   "execution_count": 946,
   "id": "36ed2c0c",
   "metadata": {
    "ExecuteTime": {
     "end_time": "2022-03-05T06:06:08.553355Z",
     "start_time": "2022-03-05T06:06:08.536131Z"
    }
   },
   "outputs": [],
   "source": [
    "df_test_.iloc[test_unk,1] = 0"
   ]
  },
  {
   "cell_type": "code",
   "execution_count": 947,
   "id": "a91b6428",
   "metadata": {
    "ExecuteTime": {
     "end_time": "2022-03-05T06:06:09.586044Z",
     "start_time": "2022-03-05T06:06:09.495257Z"
    }
   },
   "outputs": [
    {
     "data": {
      "text/html": [
       "<div>\n",
       "<style scoped>\n",
       "    .dataframe tbody tr th:only-of-type {\n",
       "        vertical-align: middle;\n",
       "    }\n",
       "\n",
       "    .dataframe tbody tr th {\n",
       "        vertical-align: top;\n",
       "    }\n",
       "\n",
       "    .dataframe thead th {\n",
       "        text-align: right;\n",
       "    }\n",
       "</style>\n",
       "<table border=\"1\" class=\"dataframe\">\n",
       "  <thead>\n",
       "    <tr style=\"text-align: right;\">\n",
       "      <th></th>\n",
       "      <th>id</th>\n",
       "      <th>user_id</th>\n",
       "      <th>item_id</th>\n",
       "      <th>item_feature_id</th>\n",
       "    </tr>\n",
       "  </thead>\n",
       "  <tbody>\n",
       "    <tr>\n",
       "      <th>0</th>\n",
       "      <td>0</td>\n",
       "      <td>5</td>\n",
       "      <td>16835</td>\n",
       "      <td>142</td>\n",
       "    </tr>\n",
       "    <tr>\n",
       "      <th>1</th>\n",
       "      <td>434</td>\n",
       "      <td>189</td>\n",
       "      <td>16835</td>\n",
       "      <td>142</td>\n",
       "    </tr>\n",
       "    <tr>\n",
       "      <th>2</th>\n",
       "      <td>48540</td>\n",
       "      <td>25438</td>\n",
       "      <td>16835</td>\n",
       "      <td>142</td>\n",
       "    </tr>\n",
       "    <tr>\n",
       "      <th>3</th>\n",
       "      <td>51161</td>\n",
       "      <td>0</td>\n",
       "      <td>16835</td>\n",
       "      <td>142</td>\n",
       "    </tr>\n",
       "    <tr>\n",
       "      <th>4</th>\n",
       "      <td>73056</td>\n",
       "      <td>0</td>\n",
       "      <td>16835</td>\n",
       "      <td>142</td>\n",
       "    </tr>\n",
       "  </tbody>\n",
       "</table>\n",
       "</div>"
      ],
      "text/plain": [
       "      id  user_id  item_id  item_feature_id\n",
       "0      0        5    16835              142\n",
       "1    434      189    16835              142\n",
       "2  48540    25438    16835              142\n",
       "3  51161        0    16835              142\n",
       "4  73056        0    16835              142"
      ]
     },
     "execution_count": 947,
     "metadata": {},
     "output_type": "execute_result"
    }
   ],
   "source": [
    "df_test = pd.merge(df_test_,df_items,on='item_id')\n",
    "df_test.head()"
   ]
  },
  {
   "cell_type": "code",
   "execution_count": 948,
   "id": "d7e4d536",
   "metadata": {
    "ExecuteTime": {
     "end_time": "2022-03-05T06:06:18.578846Z",
     "start_time": "2022-03-05T06:06:18.305805Z"
    }
   },
   "outputs": [],
   "source": [
    "#Running model with extra feature for predictions\n",
    "users = torch.LongTensor(df_test.user_id.values) # .cuda()\n",
    "items = torch.LongTensor(df_test.item_id.values) #.cuda()\n",
    "features = torch.LongTensor(df_test.item_feature_id.values)\n",
    "y_pred = torch.sigmoid(model(users,items,features))"
   ]
  },
  {
   "cell_type": "code",
   "execution_count": 949,
   "id": "5d34ccaa",
   "metadata": {
    "ExecuteTime": {
     "end_time": "2022-03-05T06:06:20.139780Z",
     "start_time": "2022-03-05T06:06:20.129717Z"
    },
    "scrolled": true
   },
   "outputs": [
    {
     "data": {
      "text/plain": [
       "tensor([[0.9194],\n",
       "        [0.9688],\n",
       "        [0.9039],\n",
       "        ...,\n",
       "        [0.4718],\n",
       "        [0.4944],\n",
       "        [0.3682]])"
      ]
     },
     "execution_count": 949,
     "metadata": {},
     "output_type": "execute_result"
    }
   ],
   "source": [
    "y_pred.detach()"
   ]
  },
  {
   "cell_type": "code",
   "execution_count": 950,
   "id": "e93fbf37",
   "metadata": {
    "ExecuteTime": {
     "end_time": "2022-03-05T06:06:23.364710Z",
     "start_time": "2022-03-05T06:06:23.359565Z"
    }
   },
   "outputs": [],
   "source": [
    "df_test['rating'] = y_pred.detach()"
   ]
  },
  {
   "cell_type": "code",
   "execution_count": 951,
   "id": "b0d763dc",
   "metadata": {
    "ExecuteTime": {
     "end_time": "2022-03-05T06:06:29.329145Z",
     "start_time": "2022-03-05T06:06:29.321352Z"
    }
   },
   "outputs": [],
   "source": [
    "df_test['user_id'] = df_test.user_id.values-1"
   ]
  },
  {
   "cell_type": "code",
   "execution_count": 952,
   "id": "da956fe9",
   "metadata": {
    "ExecuteTime": {
     "end_time": "2022-03-05T06:07:01.841381Z",
     "start_time": "2022-03-05T06:07:01.762086Z"
    },
    "scrolled": false
   },
   "outputs": [],
   "source": [
    "df_test = df_test.sort_values('id')"
   ]
  },
  {
   "cell_type": "code",
   "execution_count": 953,
   "id": "7dff6421",
   "metadata": {
    "ExecuteTime": {
     "end_time": "2022-03-05T06:07:02.301891Z",
     "start_time": "2022-03-05T06:07:02.282795Z"
    }
   },
   "outputs": [
    {
     "data": {
      "text/html": [
       "<div>\n",
       "<style scoped>\n",
       "    .dataframe tbody tr th:only-of-type {\n",
       "        vertical-align: middle;\n",
       "    }\n",
       "\n",
       "    .dataframe tbody tr th {\n",
       "        vertical-align: top;\n",
       "    }\n",
       "\n",
       "    .dataframe thead th {\n",
       "        text-align: right;\n",
       "    }\n",
       "</style>\n",
       "<table border=\"1\" class=\"dataframe\">\n",
       "  <thead>\n",
       "    <tr style=\"text-align: right;\">\n",
       "      <th></th>\n",
       "      <th>id</th>\n",
       "      <th>user_id</th>\n",
       "      <th>item_id</th>\n",
       "      <th>item_feature_id</th>\n",
       "      <th>rating</th>\n",
       "    </tr>\n",
       "  </thead>\n",
       "  <tbody>\n",
       "    <tr>\n",
       "      <th>0</th>\n",
       "      <td>0</td>\n",
       "      <td>4</td>\n",
       "      <td>16835</td>\n",
       "      <td>142</td>\n",
       "      <td>0.919385</td>\n",
       "    </tr>\n",
       "    <tr>\n",
       "      <th>25</th>\n",
       "      <td>1</td>\n",
       "      <td>4</td>\n",
       "      <td>22590</td>\n",
       "      <td>142</td>\n",
       "      <td>0.878200</td>\n",
       "    </tr>\n",
       "    <tr>\n",
       "      <th>38</th>\n",
       "      <td>2</td>\n",
       "      <td>4</td>\n",
       "      <td>1978</td>\n",
       "      <td>142</td>\n",
       "      <td>0.993686</td>\n",
       "    </tr>\n",
       "    <tr>\n",
       "      <th>77</th>\n",
       "      <td>3</td>\n",
       "      <td>4</td>\n",
       "      <td>28916</td>\n",
       "      <td>148</td>\n",
       "      <td>0.289209</td>\n",
       "    </tr>\n",
       "    <tr>\n",
       "      <th>97</th>\n",
       "      <td>4</td>\n",
       "      <td>4</td>\n",
       "      <td>14427</td>\n",
       "      <td>63</td>\n",
       "      <td>0.131593</td>\n",
       "    </tr>\n",
       "    <tr>\n",
       "      <th>...</th>\n",
       "      <td>...</td>\n",
       "      <td>...</td>\n",
       "      <td>...</td>\n",
       "      <td>...</td>\n",
       "      <td>...</td>\n",
       "    </tr>\n",
       "    <tr>\n",
       "      <th>378700</th>\n",
       "      <td>381380</td>\n",
       "      <td>200151</td>\n",
       "      <td>1702</td>\n",
       "      <td>139</td>\n",
       "      <td>0.936520</td>\n",
       "    </tr>\n",
       "    <tr>\n",
       "      <th>31638</th>\n",
       "      <td>381381</td>\n",
       "      <td>200151</td>\n",
       "      <td>21632</td>\n",
       "      <td>130</td>\n",
       "      <td>0.999670</td>\n",
       "    </tr>\n",
       "    <tr>\n",
       "      <th>247881</th>\n",
       "      <td>381382</td>\n",
       "      <td>200151</td>\n",
       "      <td>30477</td>\n",
       "      <td>130</td>\n",
       "      <td>0.999192</td>\n",
       "    </tr>\n",
       "    <tr>\n",
       "      <th>247882</th>\n",
       "      <td>381383</td>\n",
       "      <td>200151</td>\n",
       "      <td>30477</td>\n",
       "      <td>130</td>\n",
       "      <td>0.998240</td>\n",
       "    </tr>\n",
       "    <tr>\n",
       "      <th>129073</th>\n",
       "      <td>381384</td>\n",
       "      <td>200151</td>\n",
       "      <td>17715</td>\n",
       "      <td>138</td>\n",
       "      <td>0.319324</td>\n",
       "    </tr>\n",
       "  </tbody>\n",
       "</table>\n",
       "<p>381385 rows × 5 columns</p>\n",
       "</div>"
      ],
      "text/plain": [
       "            id  user_id  item_id  item_feature_id    rating\n",
       "0            0        4    16835              142  0.919385\n",
       "25           1        4    22590              142  0.878200\n",
       "38           2        4     1978              142  0.993686\n",
       "77           3        4    28916              148  0.289209\n",
       "97           4        4    14427               63  0.131593\n",
       "...        ...      ...      ...              ...       ...\n",
       "378700  381380   200151     1702              139  0.936520\n",
       "31638   381381   200151    21632              130  0.999670\n",
       "247881  381382   200151    30477              130  0.999192\n",
       "247882  381383   200151    30477              130  0.998240\n",
       "129073  381384   200151    17715              138  0.319324\n",
       "\n",
       "[381385 rows x 5 columns]"
      ]
     },
     "execution_count": 953,
     "metadata": {},
     "output_type": "execute_result"
    }
   ],
   "source": [
    "df_test"
   ]
  },
  {
   "cell_type": "code",
   "execution_count": 942,
   "id": "b1940912",
   "metadata": {
    "ExecuteTime": {
     "end_time": "2022-03-05T06:04:38.118855Z",
     "start_time": "2022-03-05T06:04:37.459519Z"
    }
   },
   "outputs": [],
   "source": [
    "df_test[['id','rating']].to_csv('trial9.csv',index=False)"
   ]
  }
 ],
 "metadata": {
  "kernelspec": {
   "display_name": "Python 3 (ipykernel)",
   "language": "python",
   "name": "python3"
  },
  "language_info": {
   "codemirror_mode": {
    "name": "ipython",
    "version": 3
   },
   "file_extension": ".py",
   "mimetype": "text/x-python",
   "name": "python",
   "nbconvert_exporter": "python",
   "pygments_lexer": "ipython3",
   "version": "3.9.7"
  }
 },
 "nbformat": 4,
 "nbformat_minor": 5
}
