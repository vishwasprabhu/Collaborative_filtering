{
 "cells": [
  {
   "cell_type": "code",
   "execution_count": 1,
   "id": "47c04340",
   "metadata": {
    "ExecuteTime": {
     "end_time": "2022-02-13T01:12:11.447045Z",
     "start_time": "2022-02-13T01:12:11.443923Z"
    }
   },
   "outputs": [],
   "source": [
    "import pandas as pd\n",
    "import numpy as np\n",
    "import torch\n",
    "import torch.nn as nn\n",
    "import torch.nn.functional as F"
   ]
  },
  {
   "cell_type": "code",
   "execution_count": 2,
   "id": "ca8beb5a",
   "metadata": {
    "ExecuteTime": {
     "end_time": "2022-02-13T01:12:11.888896Z",
     "start_time": "2022-02-13T01:12:11.690165Z"
    }
   },
   "outputs": [],
   "source": [
    "df = pd.read_csv('training.csv')"
   ]
  },
  {
   "cell_type": "code",
   "execution_count": 3,
   "id": "9b7a00f3",
   "metadata": {
    "ExecuteTime": {
     "end_time": "2022-02-13T01:12:11.898639Z",
     "start_time": "2022-02-13T01:12:11.893774Z"
    },
    "scrolled": true
   },
   "outputs": [
    {
     "data": {
      "text/html": [
       "<div>\n",
       "<style scoped>\n",
       "    .dataframe tbody tr th:only-of-type {\n",
       "        vertical-align: middle;\n",
       "    }\n",
       "\n",
       "    .dataframe tbody tr th {\n",
       "        vertical-align: top;\n",
       "    }\n",
       "\n",
       "    .dataframe thead th {\n",
       "        text-align: right;\n",
       "    }\n",
       "</style>\n",
       "<table border=\"1\" class=\"dataframe\">\n",
       "  <thead>\n",
       "    <tr style=\"text-align: right;\">\n",
       "      <th></th>\n",
       "      <th>user_id</th>\n",
       "      <th>item_id</th>\n",
       "      <th>context_feature_id</th>\n",
       "    </tr>\n",
       "  </thead>\n",
       "  <tbody>\n",
       "    <tr>\n",
       "      <th>0</th>\n",
       "      <td>0</td>\n",
       "      <td>28366</td>\n",
       "      <td>2</td>\n",
       "    </tr>\n",
       "    <tr>\n",
       "      <th>1</th>\n",
       "      <td>0</td>\n",
       "      <td>16109</td>\n",
       "      <td>2</td>\n",
       "    </tr>\n",
       "    <tr>\n",
       "      <th>2</th>\n",
       "      <td>0</td>\n",
       "      <td>11500</td>\n",
       "      <td>3</td>\n",
       "    </tr>\n",
       "    <tr>\n",
       "      <th>3</th>\n",
       "      <td>0</td>\n",
       "      <td>20750</td>\n",
       "      <td>2</td>\n",
       "    </tr>\n",
       "    <tr>\n",
       "      <th>4</th>\n",
       "      <td>0</td>\n",
       "      <td>8759</td>\n",
       "      <td>2</td>\n",
       "    </tr>\n",
       "    <tr>\n",
       "      <th>...</th>\n",
       "      <td>...</td>\n",
       "      <td>...</td>\n",
       "      <td>...</td>\n",
       "    </tr>\n",
       "    <tr>\n",
       "      <th>970240</th>\n",
       "      <td>200152</td>\n",
       "      <td>30710</td>\n",
       "      <td>2</td>\n",
       "    </tr>\n",
       "    <tr>\n",
       "      <th>970241</th>\n",
       "      <td>200152</td>\n",
       "      <td>30710</td>\n",
       "      <td>2</td>\n",
       "    </tr>\n",
       "    <tr>\n",
       "      <th>970242</th>\n",
       "      <td>200152</td>\n",
       "      <td>12006</td>\n",
       "      <td>2</td>\n",
       "    </tr>\n",
       "    <tr>\n",
       "      <th>970243</th>\n",
       "      <td>200152</td>\n",
       "      <td>25030</td>\n",
       "      <td>2</td>\n",
       "    </tr>\n",
       "    <tr>\n",
       "      <th>970244</th>\n",
       "      <td>200152</td>\n",
       "      <td>14578</td>\n",
       "      <td>2</td>\n",
       "    </tr>\n",
       "  </tbody>\n",
       "</table>\n",
       "<p>970245 rows × 3 columns</p>\n",
       "</div>"
      ],
      "text/plain": [
       "        user_id  item_id  context_feature_id\n",
       "0             0    28366                   2\n",
       "1             0    16109                   2\n",
       "2             0    11500                   3\n",
       "3             0    20750                   2\n",
       "4             0     8759                   2\n",
       "...         ...      ...                 ...\n",
       "970240   200152    30710                   2\n",
       "970241   200152    30710                   2\n",
       "970242   200152    12006                   2\n",
       "970243   200152    25030                   2\n",
       "970244   200152    14578                   2\n",
       "\n",
       "[970245 rows x 3 columns]"
      ]
     },
     "execution_count": 3,
     "metadata": {},
     "output_type": "execute_result"
    }
   ],
   "source": [
    "df"
   ]
  },
  {
   "cell_type": "code",
   "execution_count": 4,
   "id": "69a77fee",
   "metadata": {
    "ExecuteTime": {
     "end_time": "2022-02-13T01:12:12.091407Z",
     "start_time": "2022-02-13T01:12:12.069114Z"
    }
   },
   "outputs": [
    {
     "data": {
      "text/html": [
       "<div>\n",
       "<style scoped>\n",
       "    .dataframe tbody tr th:only-of-type {\n",
       "        vertical-align: middle;\n",
       "    }\n",
       "\n",
       "    .dataframe tbody tr th {\n",
       "        vertical-align: top;\n",
       "    }\n",
       "\n",
       "    .dataframe thead th {\n",
       "        text-align: right;\n",
       "    }\n",
       "</style>\n",
       "<table border=\"1\" class=\"dataframe\">\n",
       "  <thead>\n",
       "    <tr style=\"text-align: right;\">\n",
       "      <th></th>\n",
       "      <th>item_id</th>\n",
       "      <th>item_feature_id</th>\n",
       "    </tr>\n",
       "  </thead>\n",
       "  <tbody>\n",
       "    <tr>\n",
       "      <th>0</th>\n",
       "      <td>0</td>\n",
       "      <td>139</td>\n",
       "    </tr>\n",
       "    <tr>\n",
       "      <th>1</th>\n",
       "      <td>1</td>\n",
       "      <td>55</td>\n",
       "    </tr>\n",
       "    <tr>\n",
       "      <th>2</th>\n",
       "      <td>2</td>\n",
       "      <td>11</td>\n",
       "    </tr>\n",
       "    <tr>\n",
       "      <th>3</th>\n",
       "      <td>3</td>\n",
       "      <td>138</td>\n",
       "    </tr>\n",
       "    <tr>\n",
       "      <th>4</th>\n",
       "      <td>4</td>\n",
       "      <td>138</td>\n",
       "    </tr>\n",
       "    <tr>\n",
       "      <th>...</th>\n",
       "      <td>...</td>\n",
       "      <td>...</td>\n",
       "    </tr>\n",
       "    <tr>\n",
       "      <th>39896</th>\n",
       "      <td>39896</td>\n",
       "      <td>138</td>\n",
       "    </tr>\n",
       "    <tr>\n",
       "      <th>39897</th>\n",
       "      <td>39897</td>\n",
       "      <td>95</td>\n",
       "    </tr>\n",
       "    <tr>\n",
       "      <th>39898</th>\n",
       "      <td>39898</td>\n",
       "      <td>142</td>\n",
       "    </tr>\n",
       "    <tr>\n",
       "      <th>39899</th>\n",
       "      <td>39899</td>\n",
       "      <td>131</td>\n",
       "    </tr>\n",
       "    <tr>\n",
       "      <th>39900</th>\n",
       "      <td>39900</td>\n",
       "      <td>2</td>\n",
       "    </tr>\n",
       "  </tbody>\n",
       "</table>\n",
       "<p>39901 rows × 2 columns</p>\n",
       "</div>"
      ],
      "text/plain": [
       "       item_id  item_feature_id\n",
       "0            0              139\n",
       "1            1               55\n",
       "2            2               11\n",
       "3            3              138\n",
       "4            4              138\n",
       "...        ...              ...\n",
       "39896    39896              138\n",
       "39897    39897               95\n",
       "39898    39898              142\n",
       "39899    39899              131\n",
       "39900    39900                2\n",
       "\n",
       "[39901 rows x 2 columns]"
      ]
     },
     "execution_count": 4,
     "metadata": {},
     "output_type": "execute_result"
    }
   ],
   "source": [
    "df_features = pd.read_csv('item_feature.csv')\n",
    "df_features"
   ]
  },
  {
   "cell_type": "code",
   "execution_count": 5,
   "id": "2defc36c",
   "metadata": {
    "ExecuteTime": {
     "end_time": "2022-02-13T01:12:12.351075Z",
     "start_time": "2022-02-13T01:12:12.334984Z"
    }
   },
   "outputs": [],
   "source": [
    "df['rating'] = 1  #Setting implicit rating"
   ]
  },
  {
   "cell_type": "code",
   "execution_count": 6,
   "id": "f5096854",
   "metadata": {
    "ExecuteTime": {
     "end_time": "2022-02-13T01:12:12.593056Z",
     "start_time": "2022-02-13T01:12:12.580820Z"
    },
    "scrolled": true
   },
   "outputs": [
    {
     "data": {
      "text/html": [
       "<div>\n",
       "<style scoped>\n",
       "    .dataframe tbody tr th:only-of-type {\n",
       "        vertical-align: middle;\n",
       "    }\n",
       "\n",
       "    .dataframe tbody tr th {\n",
       "        vertical-align: top;\n",
       "    }\n",
       "\n",
       "    .dataframe thead th {\n",
       "        text-align: right;\n",
       "    }\n",
       "</style>\n",
       "<table border=\"1\" class=\"dataframe\">\n",
       "  <thead>\n",
       "    <tr style=\"text-align: right;\">\n",
       "      <th></th>\n",
       "      <th>user_id</th>\n",
       "      <th>item_id</th>\n",
       "      <th>context_feature_id</th>\n",
       "      <th>rating</th>\n",
       "    </tr>\n",
       "  </thead>\n",
       "  <tbody>\n",
       "    <tr>\n",
       "      <th>0</th>\n",
       "      <td>0</td>\n",
       "      <td>28366</td>\n",
       "      <td>2</td>\n",
       "      <td>1</td>\n",
       "    </tr>\n",
       "    <tr>\n",
       "      <th>1</th>\n",
       "      <td>0</td>\n",
       "      <td>16109</td>\n",
       "      <td>2</td>\n",
       "      <td>1</td>\n",
       "    </tr>\n",
       "    <tr>\n",
       "      <th>2</th>\n",
       "      <td>0</td>\n",
       "      <td>11500</td>\n",
       "      <td>3</td>\n",
       "      <td>1</td>\n",
       "    </tr>\n",
       "    <tr>\n",
       "      <th>3</th>\n",
       "      <td>0</td>\n",
       "      <td>20750</td>\n",
       "      <td>2</td>\n",
       "      <td>1</td>\n",
       "    </tr>\n",
       "    <tr>\n",
       "      <th>4</th>\n",
       "      <td>0</td>\n",
       "      <td>8759</td>\n",
       "      <td>2</td>\n",
       "      <td>1</td>\n",
       "    </tr>\n",
       "  </tbody>\n",
       "</table>\n",
       "</div>"
      ],
      "text/plain": [
       "   user_id  item_id  context_feature_id  rating\n",
       "0        0    28366                   2       1\n",
       "1        0    16109                   2       1\n",
       "2        0    11500                   3       1\n",
       "3        0    20750                   2       1\n",
       "4        0     8759                   2       1"
      ]
     },
     "execution_count": 6,
     "metadata": {},
     "output_type": "execute_result"
    }
   ],
   "source": [
    "df.head()"
   ]
  },
  {
   "cell_type": "code",
   "execution_count": 7,
   "id": "01cb789b",
   "metadata": {},
   "outputs": [
    {
     "data": {
      "text/plain": [
       "array([ 0,  1,  2,  3,  5,  7,  8, 10, 12, 14, 15, 17, 18, 19, 20])"
      ]
     },
     "execution_count": 7,
     "metadata": {},
     "output_type": "execute_result"
    }
   ],
   "source": [
    "train_user_ids = np.sort(np.unique(df.user_id.values))\n",
    "train_user_ids[:15]"
   ]
  },
  {
   "cell_type": "code",
   "execution_count": 8,
   "id": "0227d9a7",
   "metadata": {},
   "outputs": [
    {
     "data": {
      "text/plain": [
       "169698"
      ]
     },
     "execution_count": 8,
     "metadata": {},
     "output_type": "execute_result"
    }
   ],
   "source": [
    "# number of unique ids\n",
    "num_users = len(train_user_ids)\n",
    "num_users"
   ]
  },
  {
   "cell_type": "code",
   "execution_count": 9,
   "id": "838b8c72",
   "metadata": {},
   "outputs": [
    {
     "name": "stdout",
     "output_type": "stream",
     "text": [
      "39901\n"
     ]
    },
    {
     "data": {
      "text/plain": [
       "array([ 0,  1,  2,  3,  4,  5,  6,  7,  8,  9, 10, 11, 12, 13, 14])"
      ]
     },
     "execution_count": 9,
     "metadata": {},
     "output_type": "execute_result"
    }
   ],
   "source": [
    "train_item_ids = np.sort(np.unique(df_features.item_id))\n",
    "num_items = len(train_item_ids)\n",
    "print(num_items)\n",
    "train_item_ids[:15]"
   ]
  },
  {
   "cell_type": "code",
   "execution_count": 10,
   "id": "98cd24be",
   "metadata": {
    "ExecuteTime": {
     "end_time": "2022-02-13T01:12:21.564475Z",
     "start_time": "2022-02-13T01:12:17.234989Z"
    }
   },
   "outputs": [],
   "source": [
    "#Random uniform negative sampling\n",
    "cols = list(df.columns)\n",
    "val_list = []\n",
    "for itr in range(df.shape[0]):\n",
    "    user_id_sample = np.random.randint(0,num_users)\n",
    "    item_id_sample = np.random.randint(0,num_items)\n",
    "    val_list.append([user_id_sample,item_id_sample,None,0])"
   ]
  },
  {
   "cell_type": "code",
   "execution_count": 11,
   "id": "0d52b050",
   "metadata": {
    "ExecuteTime": {
     "end_time": "2022-02-13T01:12:39.742107Z",
     "start_time": "2022-02-13T01:12:39.191325Z"
    },
    "scrolled": false
   },
   "outputs": [],
   "source": [
    "val_df = pd.DataFrame(val_list,columns = df.columns)"
   ]
  },
  {
   "cell_type": "code",
   "execution_count": 12,
   "id": "a07eb493",
   "metadata": {
    "ExecuteTime": {
     "end_time": "2022-02-13T01:12:48.462162Z",
     "start_time": "2022-02-13T01:12:48.454504Z"
    }
   },
   "outputs": [
    {
     "data": {
      "text/plain": [
       "(970245, 4)"
      ]
     },
     "execution_count": 12,
     "metadata": {},
     "output_type": "execute_result"
    }
   ],
   "source": [
    "val_df.shape"
   ]
  },
  {
   "cell_type": "code",
   "execution_count": 13,
   "id": "92032ac2",
   "metadata": {
    "ExecuteTime": {
     "end_time": "2022-02-13T01:12:52.950344Z",
     "start_time": "2022-02-13T01:12:52.873112Z"
    }
   },
   "outputs": [],
   "source": [
    "df_new = pd.concat([df,val_df])"
   ]
  },
  {
   "cell_type": "code",
   "execution_count": 14,
   "id": "7c8d4fc7",
   "metadata": {
    "ExecuteTime": {
     "end_time": "2022-02-13T01:26:57.296561Z",
     "start_time": "2022-02-13T01:26:57.273777Z"
    }
   },
   "outputs": [
    {
     "data": {
      "text/html": [
       "<div>\n",
       "<style scoped>\n",
       "    .dataframe tbody tr th:only-of-type {\n",
       "        vertical-align: middle;\n",
       "    }\n",
       "\n",
       "    .dataframe tbody tr th {\n",
       "        vertical-align: top;\n",
       "    }\n",
       "\n",
       "    .dataframe thead th {\n",
       "        text-align: right;\n",
       "    }\n",
       "</style>\n",
       "<table border=\"1\" class=\"dataframe\">\n",
       "  <thead>\n",
       "    <tr style=\"text-align: right;\">\n",
       "      <th></th>\n",
       "      <th>user_id</th>\n",
       "      <th>item_id</th>\n",
       "      <th>context_feature_id</th>\n",
       "      <th>rating</th>\n",
       "    </tr>\n",
       "  </thead>\n",
       "  <tbody>\n",
       "    <tr>\n",
       "      <th>0</th>\n",
       "      <td>0</td>\n",
       "      <td>28366</td>\n",
       "      <td>2</td>\n",
       "      <td>1</td>\n",
       "    </tr>\n",
       "    <tr>\n",
       "      <th>1</th>\n",
       "      <td>0</td>\n",
       "      <td>16109</td>\n",
       "      <td>2</td>\n",
       "      <td>1</td>\n",
       "    </tr>\n",
       "    <tr>\n",
       "      <th>2</th>\n",
       "      <td>0</td>\n",
       "      <td>11500</td>\n",
       "      <td>3</td>\n",
       "      <td>1</td>\n",
       "    </tr>\n",
       "    <tr>\n",
       "      <th>3</th>\n",
       "      <td>0</td>\n",
       "      <td>20750</td>\n",
       "      <td>2</td>\n",
       "      <td>1</td>\n",
       "    </tr>\n",
       "    <tr>\n",
       "      <th>4</th>\n",
       "      <td>0</td>\n",
       "      <td>8759</td>\n",
       "      <td>2</td>\n",
       "      <td>1</td>\n",
       "    </tr>\n",
       "    <tr>\n",
       "      <th>...</th>\n",
       "      <td>...</td>\n",
       "      <td>...</td>\n",
       "      <td>...</td>\n",
       "      <td>...</td>\n",
       "    </tr>\n",
       "    <tr>\n",
       "      <th>970240</th>\n",
       "      <td>109838</td>\n",
       "      <td>13210</td>\n",
       "      <td>None</td>\n",
       "      <td>0</td>\n",
       "    </tr>\n",
       "    <tr>\n",
       "      <th>970241</th>\n",
       "      <td>54044</td>\n",
       "      <td>16869</td>\n",
       "      <td>None</td>\n",
       "      <td>0</td>\n",
       "    </tr>\n",
       "    <tr>\n",
       "      <th>970242</th>\n",
       "      <td>68198</td>\n",
       "      <td>18628</td>\n",
       "      <td>None</td>\n",
       "      <td>0</td>\n",
       "    </tr>\n",
       "    <tr>\n",
       "      <th>970243</th>\n",
       "      <td>10267</td>\n",
       "      <td>36497</td>\n",
       "      <td>None</td>\n",
       "      <td>0</td>\n",
       "    </tr>\n",
       "    <tr>\n",
       "      <th>970244</th>\n",
       "      <td>129026</td>\n",
       "      <td>10035</td>\n",
       "      <td>None</td>\n",
       "      <td>0</td>\n",
       "    </tr>\n",
       "  </tbody>\n",
       "</table>\n",
       "<p>1940490 rows × 4 columns</p>\n",
       "</div>"
      ],
      "text/plain": [
       "        user_id  item_id context_feature_id  rating\n",
       "0             0    28366                  2       1\n",
       "1             0    16109                  2       1\n",
       "2             0    11500                  3       1\n",
       "3             0    20750                  2       1\n",
       "4             0     8759                  2       1\n",
       "...         ...      ...                ...     ...\n",
       "970240   109838    13210               None       0\n",
       "970241    54044    16869               None       0\n",
       "970242    68198    18628               None       0\n",
       "970243    10267    36497               None       0\n",
       "970244   129026    10035               None       0\n",
       "\n",
       "[1940490 rows x 4 columns]"
      ]
     },
     "execution_count": 14,
     "metadata": {},
     "output_type": "execute_result"
    }
   ],
   "source": [
    "df_new"
   ]
  },
  {
   "cell_type": "code",
   "execution_count": 15,
   "id": "20679b78",
   "metadata": {
    "ExecuteTime": {
     "end_time": "2022-02-13T01:25:56.741919Z",
     "start_time": "2022-02-13T01:25:56.481636Z"
    },
    "scrolled": false
   },
   "outputs": [
    {
     "data": {
      "text/html": [
       "<div>\n",
       "<style scoped>\n",
       "    .dataframe tbody tr th:only-of-type {\n",
       "        vertical-align: middle;\n",
       "    }\n",
       "\n",
       "    .dataframe tbody tr th {\n",
       "        vertical-align: top;\n",
       "    }\n",
       "\n",
       "    .dataframe thead th {\n",
       "        text-align: right;\n",
       "    }\n",
       "</style>\n",
       "<table border=\"1\" class=\"dataframe\">\n",
       "  <thead>\n",
       "    <tr style=\"text-align: right;\">\n",
       "      <th></th>\n",
       "      <th>user_id</th>\n",
       "      <th>item_id</th>\n",
       "      <th>context_feature_id</th>\n",
       "      <th>rating</th>\n",
       "    </tr>\n",
       "  </thead>\n",
       "  <tbody>\n",
       "    <tr>\n",
       "      <th>0</th>\n",
       "      <td>0</td>\n",
       "      <td>28366</td>\n",
       "      <td>2</td>\n",
       "      <td>1</td>\n",
       "    </tr>\n",
       "    <tr>\n",
       "      <th>1</th>\n",
       "      <td>0</td>\n",
       "      <td>16109</td>\n",
       "      <td>2</td>\n",
       "      <td>1</td>\n",
       "    </tr>\n",
       "    <tr>\n",
       "      <th>2</th>\n",
       "      <td>0</td>\n",
       "      <td>11500</td>\n",
       "      <td>3</td>\n",
       "      <td>1</td>\n",
       "    </tr>\n",
       "    <tr>\n",
       "      <th>3</th>\n",
       "      <td>0</td>\n",
       "      <td>20750</td>\n",
       "      <td>2</td>\n",
       "      <td>1</td>\n",
       "    </tr>\n",
       "    <tr>\n",
       "      <th>4</th>\n",
       "      <td>0</td>\n",
       "      <td>8759</td>\n",
       "      <td>2</td>\n",
       "      <td>1</td>\n",
       "    </tr>\n",
       "    <tr>\n",
       "      <th>...</th>\n",
       "      <td>...</td>\n",
       "      <td>...</td>\n",
       "      <td>...</td>\n",
       "      <td>...</td>\n",
       "    </tr>\n",
       "    <tr>\n",
       "      <th>1833031</th>\n",
       "      <td>109838</td>\n",
       "      <td>13210</td>\n",
       "      <td>None</td>\n",
       "      <td>0</td>\n",
       "    </tr>\n",
       "    <tr>\n",
       "      <th>1833032</th>\n",
       "      <td>54044</td>\n",
       "      <td>16869</td>\n",
       "      <td>None</td>\n",
       "      <td>0</td>\n",
       "    </tr>\n",
       "    <tr>\n",
       "      <th>1833033</th>\n",
       "      <td>68198</td>\n",
       "      <td>18628</td>\n",
       "      <td>None</td>\n",
       "      <td>0</td>\n",
       "    </tr>\n",
       "    <tr>\n",
       "      <th>1833034</th>\n",
       "      <td>10267</td>\n",
       "      <td>36497</td>\n",
       "      <td>None</td>\n",
       "      <td>0</td>\n",
       "    </tr>\n",
       "    <tr>\n",
       "      <th>1833035</th>\n",
       "      <td>129026</td>\n",
       "      <td>10035</td>\n",
       "      <td>None</td>\n",
       "      <td>0</td>\n",
       "    </tr>\n",
       "  </tbody>\n",
       "</table>\n",
       "<p>1833036 rows × 4 columns</p>\n",
       "</div>"
      ],
      "text/plain": [
       "         user_id  item_id context_feature_id  rating\n",
       "0              0    28366                  2       1\n",
       "1              0    16109                  2       1\n",
       "2              0    11500                  3       1\n",
       "3              0    20750                  2       1\n",
       "4              0     8759                  2       1\n",
       "...          ...      ...                ...     ...\n",
       "1833031   109838    13210               None       0\n",
       "1833032    54044    16869               None       0\n",
       "1833033    68198    18628               None       0\n",
       "1833034    10267    36497               None       0\n",
       "1833035   129026    10035               None       0\n",
       "\n",
       "[1833036 rows x 4 columns]"
      ]
     },
     "execution_count": 15,
     "metadata": {},
     "output_type": "execute_result"
    }
   ],
   "source": [
    "df_new = df_new.drop_duplicates(\n",
    "  subset = ['user_id','item_id'],\n",
    "  keep = 'first').reset_index(drop = True)\n",
    "\n",
    "df_new"
   ]
  },
  {
   "cell_type": "code",
   "execution_count": 16,
   "id": "b4d221b0",
   "metadata": {
    "ExecuteTime": {
     "end_time": "2022-02-13T01:13:48.519487Z",
     "start_time": "2022-02-13T01:13:43.543830Z"
    }
   },
   "outputs": [],
   "source": [
    "#Splitting into train and validation set\n",
    "train = df_new.sample(frac=0.8, random_state=25)\n",
    "val = df_new.drop(train.index)"
   ]
  },
  {
   "cell_type": "markdown",
   "id": "047e3bf6",
   "metadata": {},
   "source": [
    "## MF with bias"
   ]
  },
  {
   "cell_type": "code",
   "execution_count": 17,
   "id": "31abd180",
   "metadata": {},
   "outputs": [],
   "source": [
    "class MF_bias(nn.Module):\n",
    "    def __init__(self, num_users, num_items, emb_size=100):\n",
    "        super(MF_bias, self).__init__()\n",
    "        self.user_emb = nn.Embedding(num_users, emb_size)\n",
    "        self.user_bias = nn.Embedding(num_users, 1)\n",
    "        self.item_emb = nn.Embedding(num_items, emb_size)\n",
    "        self.item_bias = nn.Embedding(num_items, 1)\n",
    "        # init \n",
    "        self.user_emb.weight.data.uniform_(0,0.05)\n",
    "        self.item_emb.weight.data.uniform_(0,0.05)\n",
    "        self.user_bias.weight.data.uniform_(-0.01,0.01)\n",
    "        self.item_bias.weight.data.uniform_(-0.01,0.01)\n",
    "        \n",
    "    def forward(self, u, v):\n",
    "        U = self.user_emb(u)\n",
    "        V = self.item_emb(v)\n",
    "        b_u = self.user_bias(u).squeeze()\n",
    "        b_v = self.item_bias(v).squeeze()\n",
    "        return (U*V).sum(1) +  b_u  + b_v"
   ]
  },
  {
   "cell_type": "markdown",
   "id": "4a9f1618",
   "metadata": {},
   "source": [
    "## Training MF model with bias"
   ]
  },
  {
   "cell_type": "code",
   "execution_count": 18,
   "id": "f099d3be",
   "metadata": {},
   "outputs": [],
   "source": [
    "def train_epocs(model, epochs=10, lr=0.01, wd=0.0):\n",
    "    optimizer = torch.optim.Adam(model.parameters(), lr=lr,\n",
    "                                 weight_decay=wd)\n",
    "    for i in range(epochs):\n",
    "        model.train()\n",
    "        users = torch.LongTensor(train.user_id.values)\n",
    "        items = torch.LongTensor(train.item_id.values) \n",
    "        ratings = torch.FloatTensor(train.rating.values)  \n",
    "    \n",
    "        y_hat = model(users, items)\n",
    "        loss = F.binary_cross_entropy_with_logits(y_hat, ratings) # binary cross entropy with logits\n",
    "        optimizer.zero_grad()\n",
    "        loss.backward()\n",
    "        optimizer.step()\n",
    "        testloss = valid_loss(model)\n",
    "        if i%10 ==0:\n",
    "            print(\"train loss %.3f valid loss %.3f\" % (loss.item(), testloss))  "
   ]
  },
  {
   "cell_type": "code",
   "execution_count": 19,
   "id": "8a8372dd",
   "metadata": {},
   "outputs": [],
   "source": [
    "def valid_loss(model):\n",
    "    model.eval()\n",
    "    users = torch.LongTensor(val.user_id.values) # .cuda()\n",
    "    items = torch.LongTensor(val.item_id.values) #.cuda()\n",
    "    ratings = torch.FloatTensor(val.rating.values) #.cuda()\n",
    "    y_hat = model(users, items)\n",
    "    loss = F.binary_cross_entropy_with_logits(y_hat, ratings)\n",
    "    return loss.item()"
   ]
  },
  {
   "cell_type": "code",
   "execution_count": 20,
   "id": "50b9314a",
   "metadata": {},
   "outputs": [],
   "source": [
    "num_users = df_new.user_id.max() + 1\n",
    "num_items = df_new.item_id.max() + 1"
   ]
  },
  {
   "cell_type": "code",
   "execution_count": 21,
   "id": "b968fffa",
   "metadata": {},
   "outputs": [
    {
     "name": "stdout",
     "output_type": "stream",
     "text": [
      "200153 39901\n"
     ]
    }
   ],
   "source": [
    "print(num_users, num_items)"
   ]
  },
  {
   "cell_type": "code",
   "execution_count": 22,
   "id": "4a9150b5",
   "metadata": {},
   "outputs": [],
   "source": [
    "model = MF_bias(num_users, num_items, emb_size=3)"
   ]
  },
  {
   "cell_type": "markdown",
   "id": "42424cd0",
   "metadata": {},
   "source": [
    "# Hyper parameters search"
   ]
  },
  {
   "cell_type": "markdown",
   "id": "9d14275d",
   "metadata": {},
   "source": [
    "## Learning Rate"
   ]
  },
  {
   "cell_type": "code",
   "execution_count": 23,
   "id": "44874014",
   "metadata": {},
   "outputs": [
    {
     "name": "stdout",
     "output_type": "stream",
     "text": [
      "train loss 0.693 valid loss 1.486\n",
      "train loss 0.515 valid loss 0.481\n",
      "train loss 0.424 valid loss 0.484\n",
      "train loss 0.418 valid loss 0.443\n",
      "train loss 0.427 valid loss 0.447\n",
      "train loss 0.425 valid loss 0.444\n",
      "train loss 0.427 valid loss 0.442\n",
      "train loss 0.426 valid loss 0.442\n",
      "train loss 0.427 valid loss 0.442\n",
      "train loss 0.428 valid loss 0.442\n"
     ]
    }
   ],
   "source": [
    "# learning rate 1\n",
    "model = MF_bias(num_users, num_items, emb_size=3)\n",
    "train_epocs(model, epochs=100, lr=1, wd=1e-5)"
   ]
  },
  {
   "cell_type": "code",
   "execution_count": 24,
   "id": "bff0b720",
   "metadata": {},
   "outputs": [
    {
     "name": "stdout",
     "output_type": "stream",
     "text": [
      "train loss 0.693 valid loss 0.658\n",
      "train loss 0.469 valid loss 0.478\n",
      "train loss 0.450 valid loss 0.465\n",
      "train loss 0.433 valid loss 0.445\n",
      "train loss 0.427 valid loss 0.443\n",
      "train loss 0.429 valid loss 0.443\n",
      "train loss 0.427 valid loss 0.442\n",
      "train loss 0.428 valid loss 0.443\n",
      "train loss 0.428 valid loss 0.442\n",
      "train loss 0.428 valid loss 0.442\n"
     ]
    }
   ],
   "source": [
    "# learning rate 0.1\n",
    "model = MF_bias(num_users, num_items, emb_size=3)\n",
    "train_epocs(model, epochs=100, lr=0.1, wd=1e-5)"
   ]
  },
  {
   "cell_type": "code",
   "execution_count": 25,
   "id": "5f498700",
   "metadata": {},
   "outputs": [
    {
     "name": "stdout",
     "output_type": "stream",
     "text": [
      "train loss 0.693 valid loss 0.689\n",
      "train loss 0.642 valid loss 0.648\n",
      "train loss 0.604 valid loss 0.615\n",
      "train loss 0.576 valid loss 0.589\n",
      "train loss 0.554 valid loss 0.568\n",
      "train loss 0.536 valid loss 0.550\n",
      "train loss 0.521 valid loss 0.537\n",
      "train loss 0.510 valid loss 0.526\n",
      "train loss 0.500 valid loss 0.517\n",
      "train loss 0.493 valid loss 0.510\n"
     ]
    }
   ],
   "source": [
    "# learning rate 0.01\n",
    "model = MF_bias(num_users, num_items, emb_size=3)\n",
    "train_epocs(model, epochs=100, lr=0.01, wd=1e-5)"
   ]
  },
  {
   "cell_type": "code",
   "execution_count": 26,
   "id": "e61834df",
   "metadata": {},
   "outputs": [
    {
     "name": "stdout",
     "output_type": "stream",
     "text": [
      "train loss 0.693 valid loss 0.693\n",
      "train loss 0.687 valid loss 0.688\n",
      "train loss 0.682 valid loss 0.684\n",
      "train loss 0.677 valid loss 0.680\n",
      "train loss 0.672 valid loss 0.676\n",
      "train loss 0.667 valid loss 0.672\n",
      "train loss 0.662 valid loss 0.668\n",
      "train loss 0.657 valid loss 0.664\n",
      "train loss 0.653 valid loss 0.660\n",
      "train loss 0.649 valid loss 0.657\n"
     ]
    }
   ],
   "source": [
    "# learning rate 0.001\n",
    "model = MF_bias(num_users, num_items, emb_size=3)\n",
    "train_epocs(model, epochs=100, lr=0.001, wd=1e-5)"
   ]
  },
  {
   "cell_type": "code",
   "execution_count": 27,
   "id": "eb707687",
   "metadata": {},
   "outputs": [
    {
     "name": "stdout",
     "output_type": "stream",
     "text": [
      "train loss 0.693 valid loss 0.693\n",
      "train loss 0.693 valid loss 0.693\n",
      "train loss 0.692 valid loss 0.692\n",
      "train loss 0.691 valid loss 0.692\n",
      "train loss 0.691 valid loss 0.691\n",
      "train loss 0.690 valid loss 0.691\n",
      "train loss 0.690 valid loss 0.690\n",
      "train loss 0.689 valid loss 0.690\n",
      "train loss 0.689 valid loss 0.689\n",
      "train loss 0.688 valid loss 0.689\n"
     ]
    }
   ],
   "source": [
    "# learning rate 0.0001\n",
    "model = MF_bias(num_users, num_items, emb_size=3)\n",
    "train_epocs(model, epochs=100, lr=0.0001, wd=1e-5)"
   ]
  },
  {
   "cell_type": "markdown",
   "id": "fb179091",
   "metadata": {},
   "source": [
    "### Conclusion: LR 0.1 is enough to quickly converge to minimum loss."
   ]
  },
  {
   "cell_type": "markdown",
   "id": "24553796",
   "metadata": {},
   "source": [
    "## Embedding Size"
   ]
  },
  {
   "cell_type": "code",
   "execution_count": 28,
   "id": "f9119c85",
   "metadata": {},
   "outputs": [
    {
     "name": "stdout",
     "output_type": "stream",
     "text": [
      "train loss 0.693 valid loss 0.658\n",
      "train loss 0.469 valid loss 0.478\n",
      "train loss 0.450 valid loss 0.465\n",
      "train loss 0.433 valid loss 0.445\n",
      "train loss 0.427 valid loss 0.443\n",
      "train loss 0.429 valid loss 0.443\n",
      "train loss 0.427 valid loss 0.442\n",
      "train loss 0.428 valid loss 0.443\n",
      "train loss 0.428 valid loss 0.442\n",
      "train loss 0.428 valid loss 0.442\n"
     ]
    }
   ],
   "source": [
    "# emb_size 3\n",
    "model = MF_bias(num_users, num_items, emb_size=3)\n",
    "train_epocs(model, epochs=100, lr=0.1, wd=1e-5)"
   ]
  },
  {
   "cell_type": "code",
   "execution_count": 29,
   "id": "4305c63c",
   "metadata": {},
   "outputs": [
    {
     "name": "stdout",
     "output_type": "stream",
     "text": [
      "train loss 0.693 valid loss 0.660\n",
      "train loss 0.469 valid loss 0.478\n",
      "train loss 0.450 valid loss 0.465\n",
      "train loss 0.433 valid loss 0.445\n",
      "train loss 0.427 valid loss 0.443\n",
      "train loss 0.429 valid loss 0.443\n",
      "train loss 0.427 valid loss 0.442\n",
      "train loss 0.428 valid loss 0.443\n",
      "train loss 0.428 valid loss 0.442\n",
      "train loss 0.428 valid loss 0.442\n"
     ]
    }
   ],
   "source": [
    "# emb_size 4\n",
    "model = MF_bias(num_users, num_items, emb_size=4)\n",
    "train_epocs(model, epochs=100, lr=0.1, wd=1e-5)"
   ]
  },
  {
   "cell_type": "code",
   "execution_count": 30,
   "id": "cee05101",
   "metadata": {},
   "outputs": [
    {
     "name": "stdout",
     "output_type": "stream",
     "text": [
      "train loss 0.693 valid loss 0.662\n",
      "train loss 0.469 valid loss 0.478\n",
      "train loss 0.450 valid loss 0.465\n",
      "train loss 0.433 valid loss 0.445\n",
      "train loss 0.427 valid loss 0.443\n",
      "train loss 0.429 valid loss 0.443\n",
      "train loss 0.427 valid loss 0.442\n",
      "train loss 0.428 valid loss 0.443\n",
      "train loss 0.428 valid loss 0.442\n",
      "train loss 0.428 valid loss 0.442\n"
     ]
    }
   ],
   "source": [
    "# emb_size 5\n",
    "model = MF_bias(num_users, num_items, emb_size=5)\n",
    "train_epocs(model, epochs=100, lr=0.1, wd=1e-5)"
   ]
  },
  {
   "cell_type": "code",
   "execution_count": 31,
   "id": "2cf4374c",
   "metadata": {},
   "outputs": [
    {
     "name": "stdout",
     "output_type": "stream",
     "text": [
      "train loss 0.693 valid loss 0.664\n",
      "train loss 0.469 valid loss 0.478\n",
      "train loss 0.450 valid loss 0.465\n",
      "train loss 0.433 valid loss 0.445\n",
      "train loss 0.427 valid loss 0.443\n",
      "train loss 0.429 valid loss 0.443\n",
      "train loss 0.427 valid loss 0.442\n",
      "train loss 0.428 valid loss 0.443\n",
      "train loss 0.428 valid loss 0.442\n",
      "train loss 0.428 valid loss 0.442\n"
     ]
    }
   ],
   "source": [
    "# emb_size 6\n",
    "model = MF_bias(num_users, num_items, emb_size=6)\n",
    "train_epocs(model, epochs=100, lr=0.1, wd=1e-5)"
   ]
  },
  {
   "cell_type": "markdown",
   "id": "e668fae0",
   "metadata": {},
   "source": [
    "### Conclusion: Embedding size 3 is enough to quickly converge to minimum loss."
   ]
  },
  {
   "cell_type": "markdown",
   "id": "4bb5eef0",
   "metadata": {},
   "source": [
    "# Generate submission file"
   ]
  },
  {
   "cell_type": "code",
   "execution_count": 33,
   "id": "6ce81a84",
   "metadata": {},
   "outputs": [],
   "source": [
    "df_test = pd.read_csv('test_kaggle.csv')"
   ]
  },
  {
   "cell_type": "code",
   "execution_count": 34,
   "id": "e9202cac",
   "metadata": {},
   "outputs": [],
   "source": [
    "users = torch.LongTensor(df_test.user_id.values) # .cuda()\n",
    "items = torch.LongTensor(df_test.item_id.values) #.cuda()\n",
    "y_pred = torch.sigmoid(model(users,items))"
   ]
  },
  {
   "cell_type": "code",
   "execution_count": 35,
   "id": "182e65dd",
   "metadata": {},
   "outputs": [
    {
     "data": {
      "text/plain": [
       "tensor([0.5968, 0.4197, 0.8415,  ..., 0.8995, 0.8995, 0.4179])"
      ]
     },
     "execution_count": 35,
     "metadata": {},
     "output_type": "execute_result"
    }
   ],
   "source": [
    "y_pred.detach()"
   ]
  },
  {
   "cell_type": "code",
   "execution_count": 42,
   "id": "9c856731",
   "metadata": {},
   "outputs": [],
   "source": [
    "df_test['rating'] = y_pred.detach()"
   ]
  },
  {
   "cell_type": "code",
   "execution_count": 43,
   "id": "89a9ce8d",
   "metadata": {},
   "outputs": [
    {
     "data": {
      "text/html": [
       "<div>\n",
       "<style scoped>\n",
       "    .dataframe tbody tr th:only-of-type {\n",
       "        vertical-align: middle;\n",
       "    }\n",
       "\n",
       "    .dataframe tbody tr th {\n",
       "        vertical-align: top;\n",
       "    }\n",
       "\n",
       "    .dataframe thead th {\n",
       "        text-align: right;\n",
       "    }\n",
       "</style>\n",
       "<table border=\"1\" class=\"dataframe\">\n",
       "  <thead>\n",
       "    <tr style=\"text-align: right;\">\n",
       "      <th></th>\n",
       "      <th>id</th>\n",
       "      <th>rating</th>\n",
       "    </tr>\n",
       "  </thead>\n",
       "  <tbody>\n",
       "    <tr>\n",
       "      <th>0</th>\n",
       "      <td>0</td>\n",
       "      <td>0.596785</td>\n",
       "    </tr>\n",
       "    <tr>\n",
       "      <th>1</th>\n",
       "      <td>1</td>\n",
       "      <td>0.419673</td>\n",
       "    </tr>\n",
       "    <tr>\n",
       "      <th>2</th>\n",
       "      <td>2</td>\n",
       "      <td>0.841454</td>\n",
       "    </tr>\n",
       "    <tr>\n",
       "      <th>3</th>\n",
       "      <td>3</td>\n",
       "      <td>0.383190</td>\n",
       "    </tr>\n",
       "    <tr>\n",
       "      <th>4</th>\n",
       "      <td>4</td>\n",
       "      <td>0.355154</td>\n",
       "    </tr>\n",
       "    <tr>\n",
       "      <th>...</th>\n",
       "      <td>...</td>\n",
       "      <td>...</td>\n",
       "    </tr>\n",
       "    <tr>\n",
       "      <th>381380</th>\n",
       "      <td>381380</td>\n",
       "      <td>0.771630</td>\n",
       "    </tr>\n",
       "    <tr>\n",
       "      <th>381381</th>\n",
       "      <td>381381</td>\n",
       "      <td>0.937398</td>\n",
       "    </tr>\n",
       "    <tr>\n",
       "      <th>381382</th>\n",
       "      <td>381382</td>\n",
       "      <td>0.899503</td>\n",
       "    </tr>\n",
       "    <tr>\n",
       "      <th>381383</th>\n",
       "      <td>381383</td>\n",
       "      <td>0.899503</td>\n",
       "    </tr>\n",
       "    <tr>\n",
       "      <th>381384</th>\n",
       "      <td>381384</td>\n",
       "      <td>0.417889</td>\n",
       "    </tr>\n",
       "  </tbody>\n",
       "</table>\n",
       "<p>381385 rows × 2 columns</p>\n",
       "</div>"
      ],
      "text/plain": [
       "            id    rating\n",
       "0            0  0.596785\n",
       "1            1  0.419673\n",
       "2            2  0.841454\n",
       "3            3  0.383190\n",
       "4            4  0.355154\n",
       "...        ...       ...\n",
       "381380  381380  0.771630\n",
       "381381  381381  0.937398\n",
       "381382  381382  0.899503\n",
       "381383  381383  0.899503\n",
       "381384  381384  0.417889\n",
       "\n",
       "[381385 rows x 2 columns]"
      ]
     },
     "execution_count": 43,
     "metadata": {},
     "output_type": "execute_result"
    }
   ],
   "source": [
    "df_test[['id','rating']]"
   ]
  },
  {
   "cell_type": "code",
   "execution_count": 44,
   "id": "a317db0f",
   "metadata": {},
   "outputs": [],
   "source": [
    "df_test[['id','rating']].to_csv('trial2.csv', index=False)"
   ]
  },
  {
   "cell_type": "code",
   "execution_count": 45,
   "id": "af217119",
   "metadata": {},
   "outputs": [
    {
     "data": {
      "text/html": [
       "<div>\n",
       "<style scoped>\n",
       "    .dataframe tbody tr th:only-of-type {\n",
       "        vertical-align: middle;\n",
       "    }\n",
       "\n",
       "    .dataframe tbody tr th {\n",
       "        vertical-align: top;\n",
       "    }\n",
       "\n",
       "    .dataframe thead th {\n",
       "        text-align: right;\n",
       "    }\n",
       "</style>\n",
       "<table border=\"1\" class=\"dataframe\">\n",
       "  <thead>\n",
       "    <tr style=\"text-align: right;\">\n",
       "      <th></th>\n",
       "      <th>id</th>\n",
       "      <th>rating</th>\n",
       "    </tr>\n",
       "  </thead>\n",
       "  <tbody>\n",
       "    <tr>\n",
       "      <th>0</th>\n",
       "      <td>0</td>\n",
       "      <td>0.596785</td>\n",
       "    </tr>\n",
       "    <tr>\n",
       "      <th>1</th>\n",
       "      <td>1</td>\n",
       "      <td>0.419673</td>\n",
       "    </tr>\n",
       "    <tr>\n",
       "      <th>2</th>\n",
       "      <td>2</td>\n",
       "      <td>0.841454</td>\n",
       "    </tr>\n",
       "    <tr>\n",
       "      <th>3</th>\n",
       "      <td>3</td>\n",
       "      <td>0.383190</td>\n",
       "    </tr>\n",
       "    <tr>\n",
       "      <th>4</th>\n",
       "      <td>4</td>\n",
       "      <td>0.355154</td>\n",
       "    </tr>\n",
       "    <tr>\n",
       "      <th>...</th>\n",
       "      <td>...</td>\n",
       "      <td>...</td>\n",
       "    </tr>\n",
       "    <tr>\n",
       "      <th>381380</th>\n",
       "      <td>381380</td>\n",
       "      <td>0.771630</td>\n",
       "    </tr>\n",
       "    <tr>\n",
       "      <th>381381</th>\n",
       "      <td>381381</td>\n",
       "      <td>0.937398</td>\n",
       "    </tr>\n",
       "    <tr>\n",
       "      <th>381382</th>\n",
       "      <td>381382</td>\n",
       "      <td>0.899503</td>\n",
       "    </tr>\n",
       "    <tr>\n",
       "      <th>381383</th>\n",
       "      <td>381383</td>\n",
       "      <td>0.899503</td>\n",
       "    </tr>\n",
       "    <tr>\n",
       "      <th>381384</th>\n",
       "      <td>381384</td>\n",
       "      <td>0.417889</td>\n",
       "    </tr>\n",
       "  </tbody>\n",
       "</table>\n",
       "<p>381385 rows × 2 columns</p>\n",
       "</div>"
      ],
      "text/plain": [
       "            id    rating\n",
       "0            0  0.596785\n",
       "1            1  0.419673\n",
       "2            2  0.841454\n",
       "3            3  0.383190\n",
       "4            4  0.355154\n",
       "...        ...       ...\n",
       "381380  381380  0.771630\n",
       "381381  381381  0.937398\n",
       "381382  381382  0.899503\n",
       "381383  381383  0.899503\n",
       "381384  381384  0.417889\n",
       "\n",
       "[381385 rows x 2 columns]"
      ]
     },
     "execution_count": 45,
     "metadata": {},
     "output_type": "execute_result"
    }
   ],
   "source": [
    "pd.read_csv('trial2.csv')"
   ]
  },
  {
   "cell_type": "code",
   "execution_count": null,
   "id": "2561bb45",
   "metadata": {},
   "outputs": [],
   "source": []
  }
 ],
 "metadata": {
  "kernelspec": {
   "display_name": "Python 3 (ipykernel)",
   "language": "python",
   "name": "python3"
  },
  "language_info": {
   "codemirror_mode": {
    "name": "ipython",
    "version": 3
   },
   "file_extension": ".py",
   "mimetype": "text/x-python",
   "name": "python",
   "nbconvert_exporter": "python",
   "pygments_lexer": "ipython3",
   "version": "3.8.11"
  }
 },
 "nbformat": 4,
 "nbformat_minor": 5
}
