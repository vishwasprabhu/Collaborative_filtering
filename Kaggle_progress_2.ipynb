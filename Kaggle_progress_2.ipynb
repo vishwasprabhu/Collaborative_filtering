{
 "cells": [
  {
   "cell_type": "code",
   "execution_count": 168,
   "id": "459ced7e",
   "metadata": {
    "ExecuteTime": {
     "end_time": "2022-02-27T20:14:25.732462Z",
     "start_time": "2022-02-27T20:14:25.457295Z"
    }
   },
   "outputs": [],
   "source": [
    "import pandas as pd\n",
    "import numpy as np\n",
    "import torch\n",
    "import torch.nn as nn\n",
    "import torch.nn.functional as F\n",
    "from statistics import mode\n"
   ]
  },
  {
   "cell_type": "code",
   "execution_count": 181,
   "id": "8a60e65b",
   "metadata": {
    "ExecuteTime": {
     "end_time": "2022-02-27T20:40:19.281829Z",
     "start_time": "2022-02-27T20:40:19.073432Z"
    }
   },
   "outputs": [
    {
     "data": {
      "text/html": [
       "<div>\n",
       "<style scoped>\n",
       "    .dataframe tbody tr th:only-of-type {\n",
       "        vertical-align: middle;\n",
       "    }\n",
       "\n",
       "    .dataframe tbody tr th {\n",
       "        vertical-align: top;\n",
       "    }\n",
       "\n",
       "    .dataframe thead th {\n",
       "        text-align: right;\n",
       "    }\n",
       "</style>\n",
       "<table border=\"1\" class=\"dataframe\">\n",
       "  <thead>\n",
       "    <tr style=\"text-align: right;\">\n",
       "      <th></th>\n",
       "      <th>user_id</th>\n",
       "      <th>item_id</th>\n",
       "      <th>context_feature_id</th>\n",
       "    </tr>\n",
       "  </thead>\n",
       "  <tbody>\n",
       "    <tr>\n",
       "      <th>0</th>\n",
       "      <td>0</td>\n",
       "      <td>28366</td>\n",
       "      <td>2</td>\n",
       "    </tr>\n",
       "    <tr>\n",
       "      <th>1</th>\n",
       "      <td>0</td>\n",
       "      <td>16109</td>\n",
       "      <td>2</td>\n",
       "    </tr>\n",
       "    <tr>\n",
       "      <th>2</th>\n",
       "      <td>0</td>\n",
       "      <td>11500</td>\n",
       "      <td>3</td>\n",
       "    </tr>\n",
       "    <tr>\n",
       "      <th>3</th>\n",
       "      <td>0</td>\n",
       "      <td>20750</td>\n",
       "      <td>2</td>\n",
       "    </tr>\n",
       "    <tr>\n",
       "      <th>4</th>\n",
       "      <td>0</td>\n",
       "      <td>8759</td>\n",
       "      <td>2</td>\n",
       "    </tr>\n",
       "  </tbody>\n",
       "</table>\n",
       "</div>"
      ],
      "text/plain": [
       "   user_id  item_id  context_feature_id\n",
       "0        0    28366                   2\n",
       "1        0    16109                   2\n",
       "2        0    11500                   3\n",
       "3        0    20750                   2\n",
       "4        0     8759                   2"
      ]
     },
     "execution_count": 181,
     "metadata": {},
     "output_type": "execute_result"
    }
   ],
   "source": [
    "df_users = pd.read_csv('training.csv')\n",
    "df_users.head()"
   ]
  },
  {
   "cell_type": "code",
   "execution_count": 182,
   "id": "38fccb0b",
   "metadata": {
    "ExecuteTime": {
     "end_time": "2022-02-27T20:40:20.235940Z",
     "start_time": "2022-02-27T20:40:20.198049Z"
    }
   },
   "outputs": [
    {
     "data": {
      "text/html": [
       "<div>\n",
       "<style scoped>\n",
       "    .dataframe tbody tr th:only-of-type {\n",
       "        vertical-align: middle;\n",
       "    }\n",
       "\n",
       "    .dataframe tbody tr th {\n",
       "        vertical-align: top;\n",
       "    }\n",
       "\n",
       "    .dataframe thead th {\n",
       "        text-align: right;\n",
       "    }\n",
       "</style>\n",
       "<table border=\"1\" class=\"dataframe\">\n",
       "  <thead>\n",
       "    <tr style=\"text-align: right;\">\n",
       "      <th></th>\n",
       "      <th>item_id</th>\n",
       "      <th>item_feature_id</th>\n",
       "    </tr>\n",
       "  </thead>\n",
       "  <tbody>\n",
       "    <tr>\n",
       "      <th>0</th>\n",
       "      <td>0</td>\n",
       "      <td>139</td>\n",
       "    </tr>\n",
       "    <tr>\n",
       "      <th>1</th>\n",
       "      <td>1</td>\n",
       "      <td>55</td>\n",
       "    </tr>\n",
       "    <tr>\n",
       "      <th>2</th>\n",
       "      <td>2</td>\n",
       "      <td>11</td>\n",
       "    </tr>\n",
       "    <tr>\n",
       "      <th>3</th>\n",
       "      <td>3</td>\n",
       "      <td>138</td>\n",
       "    </tr>\n",
       "    <tr>\n",
       "      <th>4</th>\n",
       "      <td>4</td>\n",
       "      <td>138</td>\n",
       "    </tr>\n",
       "  </tbody>\n",
       "</table>\n",
       "</div>"
      ],
      "text/plain": [
       "   item_id  item_feature_id\n",
       "0        0              139\n",
       "1        1               55\n",
       "2        2               11\n",
       "3        3              138\n",
       "4        4              138"
      ]
     },
     "execution_count": 182,
     "metadata": {},
     "output_type": "execute_result"
    }
   ],
   "source": [
    "df_items = pd.read_csv('item_feature.csv')\n",
    "df_items.head()"
   ]
  },
  {
   "cell_type": "code",
   "execution_count": 184,
   "id": "e67bad4b",
   "metadata": {
    "ExecuteTime": {
     "end_time": "2022-02-27T20:40:31.691696Z",
     "start_time": "2022-02-27T20:40:31.583320Z"
    }
   },
   "outputs": [
    {
     "data": {
      "text/html": [
       "<div>\n",
       "<style scoped>\n",
       "    .dataframe tbody tr th:only-of-type {\n",
       "        vertical-align: middle;\n",
       "    }\n",
       "\n",
       "    .dataframe tbody tr th {\n",
       "        vertical-align: top;\n",
       "    }\n",
       "\n",
       "    .dataframe thead th {\n",
       "        text-align: right;\n",
       "    }\n",
       "</style>\n",
       "<table border=\"1\" class=\"dataframe\">\n",
       "  <thead>\n",
       "    <tr style=\"text-align: right;\">\n",
       "      <th></th>\n",
       "      <th>user_id</th>\n",
       "      <th>item_id</th>\n",
       "      <th>item_feature_id</th>\n",
       "    </tr>\n",
       "  </thead>\n",
       "  <tbody>\n",
       "    <tr>\n",
       "      <th>0</th>\n",
       "      <td>0</td>\n",
       "      <td>28366</td>\n",
       "      <td>7</td>\n",
       "    </tr>\n",
       "    <tr>\n",
       "      <th>1</th>\n",
       "      <td>1731</td>\n",
       "      <td>28366</td>\n",
       "      <td>7</td>\n",
       "    </tr>\n",
       "    <tr>\n",
       "      <th>2</th>\n",
       "      <td>10168</td>\n",
       "      <td>28366</td>\n",
       "      <td>7</td>\n",
       "    </tr>\n",
       "    <tr>\n",
       "      <th>3</th>\n",
       "      <td>18883</td>\n",
       "      <td>28366</td>\n",
       "      <td>7</td>\n",
       "    </tr>\n",
       "    <tr>\n",
       "      <th>4</th>\n",
       "      <td>19763</td>\n",
       "      <td>28366</td>\n",
       "      <td>7</td>\n",
       "    </tr>\n",
       "  </tbody>\n",
       "</table>\n",
       "</div>"
      ],
      "text/plain": [
       "   user_id  item_id  item_feature_id\n",
       "0        0    28366                7\n",
       "1     1731    28366                7\n",
       "2    10168    28366                7\n",
       "3    18883    28366                7\n",
       "4    19763    28366                7"
      ]
     },
     "execution_count": 184,
     "metadata": {},
     "output_type": "execute_result"
    }
   ],
   "source": [
    "df = pd.merge(df_users.drop('context_feature_id',axis=1),df_items,on='item_id')\n",
    "df.head()"
   ]
  },
  {
   "cell_type": "code",
   "execution_count": 170,
   "id": "4bae8887",
   "metadata": {
    "ExecuteTime": {
     "end_time": "2022-02-27T20:15:12.114008Z",
     "start_time": "2022-02-27T20:15:12.102622Z"
    }
   },
   "outputs": [
    {
     "data": {
      "text/plain": [
       "7"
      ]
     },
     "execution_count": 170,
     "metadata": {},
     "output_type": "execute_result"
    }
   ],
   "source": [
    "mode(df.loc[df.user_id==0]['item_feature_id'])"
   ]
  },
  {
   "cell_type": "code",
   "execution_count": 189,
   "id": "7f239a51",
   "metadata": {
    "ExecuteTime": {
     "end_time": "2022-02-27T20:41:20.645144Z",
     "start_time": "2022-02-27T20:41:20.630684Z"
    }
   },
   "outputs": [],
   "source": [
    "df['rating'] = 1  #Setting implicit rating"
   ]
  },
  {
   "cell_type": "code",
   "execution_count": 190,
   "id": "a40df267",
   "metadata": {
    "ExecuteTime": {
     "end_time": "2022-02-27T20:41:21.105840Z",
     "start_time": "2022-02-27T20:41:21.090288Z"
    },
    "scrolled": true
   },
   "outputs": [
    {
     "data": {
      "text/plain": [
       "(200152, 39901)"
      ]
     },
     "execution_count": 190,
     "metadata": {},
     "output_type": "execute_result"
    }
   ],
   "source": [
    "num_users = df.user_id.max()\n",
    "num_items = len(np.unique(df_items.item_id))\n",
    "num_users, num_items"
   ]
  },
  {
   "cell_type": "code",
   "execution_count": 191,
   "id": "dc982db2",
   "metadata": {
    "ExecuteTime": {
     "end_time": "2022-02-27T20:41:21.562786Z",
     "start_time": "2022-02-27T20:41:21.554163Z"
    }
   },
   "outputs": [
    {
     "data": {
      "text/plain": [
       "Index(['user_id', 'item_id', 'item_feature_id', 'rating'], dtype='object')"
      ]
     },
     "execution_count": 191,
     "metadata": {},
     "output_type": "execute_result"
    }
   ],
   "source": [
    "df.columns"
   ]
  },
  {
   "cell_type": "code",
   "execution_count": 192,
   "id": "c4b801b8",
   "metadata": {
    "ExecuteTime": {
     "end_time": "2022-02-27T20:41:22.101446Z",
     "start_time": "2022-02-27T20:41:21.974324Z"
    }
   },
   "outputs": [],
   "source": [
    "user_set = set(df.user_id.values)"
   ]
  },
  {
   "cell_type": "code",
   "execution_count": 193,
   "id": "5cf26d2b",
   "metadata": {
    "ExecuteTime": {
     "end_time": "2022-02-27T20:41:24.941499Z",
     "start_time": "2022-02-27T20:41:22.569188Z"
    }
   },
   "outputs": [],
   "source": [
    "#Random uniform negative sampling\n",
    "cols = list(df.columns)\n",
    "val_list = []\n",
    "for itr in range(df.shape[0]//2):\n",
    "    user_id_sample = np.random.randint(0,num_users)\n",
    "    item_id_sample = np.random.randint(0,num_items)\n",
    "    val_list.append([user_id_sample,item_id_sample,\\\n",
    "                     None,0])\n"
   ]
  },
  {
   "cell_type": "code",
   "execution_count": null,
   "id": "83364c39",
   "metadata": {},
   "outputs": [],
   "source": []
  },
  {
   "cell_type": "code",
   "execution_count": 194,
   "id": "c3d8fb88",
   "metadata": {
    "ExecuteTime": {
     "end_time": "2022-02-27T20:41:27.509987Z",
     "start_time": "2022-02-27T20:41:27.173919Z"
    }
   },
   "outputs": [],
   "source": [
    "val_df = pd.DataFrame(val_list,columns = df.columns)\n"
   ]
  },
  {
   "cell_type": "code",
   "execution_count": 199,
   "id": "62d9434e",
   "metadata": {
    "ExecuteTime": {
     "end_time": "2022-02-27T20:43:06.447231Z",
     "start_time": "2022-02-27T20:43:06.381509Z"
    }
   },
   "outputs": [],
   "source": [
    "neg_df = pd.merge(val_df.drop('item_feature_id',axis=1),df_items,on='item_id')"
   ]
  },
  {
   "cell_type": "code",
   "execution_count": 200,
   "id": "5705058d",
   "metadata": {
    "ExecuteTime": {
     "end_time": "2022-02-27T20:43:17.060160Z",
     "start_time": "2022-02-27T20:43:16.990620Z"
    },
    "scrolled": false
   },
   "outputs": [
    {
     "data": {
      "text/html": [
       "<div>\n",
       "<style scoped>\n",
       "    .dataframe tbody tr th:only-of-type {\n",
       "        vertical-align: middle;\n",
       "    }\n",
       "\n",
       "    .dataframe tbody tr th {\n",
       "        vertical-align: top;\n",
       "    }\n",
       "\n",
       "    .dataframe thead th {\n",
       "        text-align: right;\n",
       "    }\n",
       "</style>\n",
       "<table border=\"1\" class=\"dataframe\">\n",
       "  <thead>\n",
       "    <tr style=\"text-align: right;\">\n",
       "      <th></th>\n",
       "      <th>user_id</th>\n",
       "      <th>item_id</th>\n",
       "      <th>item_feature_id</th>\n",
       "      <th>rating</th>\n",
       "    </tr>\n",
       "  </thead>\n",
       "  <tbody>\n",
       "    <tr>\n",
       "      <th>0</th>\n",
       "      <td>0</td>\n",
       "      <td>28366</td>\n",
       "      <td>7</td>\n",
       "      <td>1</td>\n",
       "    </tr>\n",
       "    <tr>\n",
       "      <th>1</th>\n",
       "      <td>1731</td>\n",
       "      <td>28366</td>\n",
       "      <td>7</td>\n",
       "      <td>1</td>\n",
       "    </tr>\n",
       "    <tr>\n",
       "      <th>2</th>\n",
       "      <td>10168</td>\n",
       "      <td>28366</td>\n",
       "      <td>7</td>\n",
       "      <td>1</td>\n",
       "    </tr>\n",
       "    <tr>\n",
       "      <th>3</th>\n",
       "      <td>18883</td>\n",
       "      <td>28366</td>\n",
       "      <td>7</td>\n",
       "      <td>1</td>\n",
       "    </tr>\n",
       "    <tr>\n",
       "      <th>4</th>\n",
       "      <td>19763</td>\n",
       "      <td>28366</td>\n",
       "      <td>7</td>\n",
       "      <td>1</td>\n",
       "    </tr>\n",
       "    <tr>\n",
       "      <th>...</th>\n",
       "      <td>...</td>\n",
       "      <td>...</td>\n",
       "      <td>...</td>\n",
       "      <td>...</td>\n",
       "    </tr>\n",
       "    <tr>\n",
       "      <th>1455362</th>\n",
       "      <td>111069</td>\n",
       "      <td>8140</td>\n",
       "      <td>138</td>\n",
       "      <td>0</td>\n",
       "    </tr>\n",
       "    <tr>\n",
       "      <th>1455363</th>\n",
       "      <td>121046</td>\n",
       "      <td>8140</td>\n",
       "      <td>138</td>\n",
       "      <td>0</td>\n",
       "    </tr>\n",
       "    <tr>\n",
       "      <th>1455364</th>\n",
       "      <td>31024</td>\n",
       "      <td>8140</td>\n",
       "      <td>138</td>\n",
       "      <td>0</td>\n",
       "    </tr>\n",
       "    <tr>\n",
       "      <th>1455365</th>\n",
       "      <td>83958</td>\n",
       "      <td>11704</td>\n",
       "      <td>147</td>\n",
       "      <td>0</td>\n",
       "    </tr>\n",
       "    <tr>\n",
       "      <th>1455366</th>\n",
       "      <td>65345</td>\n",
       "      <td>37113</td>\n",
       "      <td>142</td>\n",
       "      <td>0</td>\n",
       "    </tr>\n",
       "  </tbody>\n",
       "</table>\n",
       "<p>1455367 rows × 4 columns</p>\n",
       "</div>"
      ],
      "text/plain": [
       "         user_id  item_id  item_feature_id  rating\n",
       "0              0    28366                7       1\n",
       "1           1731    28366                7       1\n",
       "2          10168    28366                7       1\n",
       "3          18883    28366                7       1\n",
       "4          19763    28366                7       1\n",
       "...          ...      ...              ...     ...\n",
       "1455362   111069     8140              138       0\n",
       "1455363   121046     8140              138       0\n",
       "1455364    31024     8140              138       0\n",
       "1455365    83958    11704              147       0\n",
       "1455366    65345    37113              142       0\n",
       "\n",
       "[1455367 rows x 4 columns]"
      ]
     },
     "execution_count": 200,
     "metadata": {},
     "output_type": "execute_result"
    }
   ],
   "source": [
    "df_new = pd.concat([df,neg_df])\n",
    "df_new.reset_index(drop=True, inplace=True)\n",
    "df_new"
   ]
  },
  {
   "cell_type": "code",
   "execution_count": null,
   "id": "1798b514",
   "metadata": {},
   "outputs": [],
   "source": []
  },
  {
   "cell_type": "code",
   "execution_count": 201,
   "id": "5c17b3f1",
   "metadata": {
    "ExecuteTime": {
     "end_time": "2022-02-27T20:43:24.800788Z",
     "start_time": "2022-02-27T20:43:24.498834Z"
    }
   },
   "outputs": [],
   "source": [
    "#Splitting into train and validation set\n",
    "train = df_new.sample(frac=0.8, random_state=25)\n",
    "val = df_new.drop(train.index)"
   ]
  },
  {
   "cell_type": "markdown",
   "id": "b52347a5",
   "metadata": {},
   "source": [
    "## Model 1 without using extra features"
   ]
  },
  {
   "cell_type": "code",
   "execution_count": 279,
   "id": "8fb7abd0",
   "metadata": {
    "ExecuteTime": {
     "end_time": "2022-02-27T21:36:34.880182Z",
     "start_time": "2022-02-27T21:36:34.858041Z"
    }
   },
   "outputs": [],
   "source": [
    "class MF_bias(nn.Module):\n",
    "    def __init__(self, num_users, num_items, emb_size=100, p=0.5):\n",
    "        super(MF_bias, self).__init__()\n",
    "        self.user_emb = nn.Embedding(num_users, emb_size)\n",
    "        self.user_bias = nn.Embedding(num_users, 1)\n",
    "        self.item_emb = nn.Embedding(num_items, emb_size)\n",
    "        self.item_bias = nn.Embedding(num_items, 1)\n",
    "        # init \n",
    "        self.user_emb.weight.data.uniform_(0,0.05)\n",
    "        self.item_emb.weight.data.uniform_(0,0.05)\n",
    "        self.user_bias.weight.data.uniform_(-0.01,0.01)\n",
    "        self.item_bias.weight.data.uniform_(-0.01,0.01)\n",
    "        \n",
    "        self.linear1 = nn.Linear(emb_size*2, 10)\n",
    "        self.relu = nn.ReLU()\n",
    "        self.dropout = nn.Dropout(p)\n",
    "        self.linear2 = nn.Linear(10,1)\n",
    "    def forward(self, u, v):\n",
    "        U = self.user_emb(u)\n",
    "        V = self.item_emb(v)\n",
    "        b_u = self.user_bias(u).squeeze()\n",
    "        b_v = self.item_bias(v).squeeze()\n",
    "        x = self.linear1(torch.cat((U,V),1))\n",
    "        x = self.relu(x)\n",
    "        x = self.dropout(x)\n",
    "        x = self.linear2(x)\n",
    "        return x"
   ]
  },
  {
   "cell_type": "code",
   "execution_count": 280,
   "id": "a16475e1",
   "metadata": {
    "ExecuteTime": {
     "end_time": "2022-02-27T21:36:36.108755Z",
     "start_time": "2022-02-27T21:36:36.097110Z"
    }
   },
   "outputs": [],
   "source": [
    "def train_epocs1(model, epochs=10, lr=0.01, wd=0.0):\n",
    "    optimizer = torch.optim.Adam(model.parameters(), lr=lr,\n",
    "                                 weight_decay=wd)\n",
    "    for i in range(epochs):\n",
    "        model.train()\n",
    "        users = torch.LongTensor(train.user_id.values)\n",
    "        items = torch.LongTensor(train.item_id.values) \n",
    "        ratings = torch.FloatTensor(train.rating.values)  \n",
    "    \n",
    "        y_hat = model(users, items)\n",
    "        loss = F.binary_cross_entropy_with_logits(y_hat, ratings.unsqueeze(-1)) # binary cross entropy with logits\n",
    "        optimizer.zero_grad()\n",
    "        loss.backward()\n",
    "        optimizer.step()\n",
    "        testloss = valid_loss1(model)\n",
    "        if i%10 ==0:\n",
    "            print(\"train loss %.3f valid loss %.3f\" % (loss.item(), testloss)) \n"
   ]
  },
  {
   "cell_type": "code",
   "execution_count": 281,
   "id": "218ec134",
   "metadata": {
    "ExecuteTime": {
     "end_time": "2022-02-27T21:36:37.716154Z",
     "start_time": "2022-02-27T21:36:37.706522Z"
    }
   },
   "outputs": [],
   "source": [
    "def valid_loss1(model):\n",
    "    model.eval()\n",
    "    users = torch.LongTensor(val.user_id.values) # .cuda()\n",
    "    items = torch.LongTensor(val.item_id.values) #.cuda()\n",
    "    ratings = torch.FloatTensor(val.rating.values) #.cuda()\n",
    "    y_hat = model(users, items)\n",
    "    loss = F.binary_cross_entropy_with_logits(y_hat, ratings.unsqueeze(-1))\n",
    "    return loss.item()"
   ]
  },
  {
   "cell_type": "code",
   "execution_count": 223,
   "id": "a8a950c0",
   "metadata": {
    "ExecuteTime": {
     "end_time": "2022-02-27T21:00:47.381807Z",
     "start_time": "2022-02-27T21:00:47.373687Z"
    },
    "scrolled": false
   },
   "outputs": [
    {
     "name": "stdout",
     "output_type": "stream",
     "text": [
      "200153 39901\n"
     ]
    }
   ],
   "source": [
    "num_users = df.user_id.max()+1\n",
    "num_items = df.item_id.max()+1\n",
    "print(num_users, num_items) "
   ]
  },
  {
   "cell_type": "code",
   "execution_count": 224,
   "id": "6b9d308e",
   "metadata": {
    "ExecuteTime": {
     "end_time": "2022-02-27T21:01:44.395257Z",
     "start_time": "2022-02-27T21:00:48.005181Z"
    },
    "scrolled": false
   },
   "outputs": [
    {
     "name": "stdout",
     "output_type": "stream",
     "text": [
      "train loss 0.654 valid loss 0.649\n",
      "train loss 0.542 valid loss 0.522\n",
      "train loss 0.413 valid loss 0.416\n",
      "train loss 0.325 valid loss 0.373\n",
      "train loss 0.261 valid loss 0.344\n",
      "train loss 0.230 valid loss 0.345\n"
     ]
    }
   ],
   "source": [
    "model = MF_bias(num_users, num_items, emb_size=50)\n",
    "train_epocs(model, epochs=60, lr=0.01, wd=1e-5)"
   ]
  },
  {
   "cell_type": "markdown",
   "id": "bd7bbad1",
   "metadata": {},
   "source": [
    "## Model 2 with extra feature"
   ]
  },
  {
   "cell_type": "code",
   "execution_count": 254,
   "id": "599850f3",
   "metadata": {
    "ExecuteTime": {
     "end_time": "2022-02-27T21:17:03.938088Z",
     "start_time": "2022-02-27T21:17:03.918924Z"
    }
   },
   "outputs": [],
   "source": [
    "class MF_extra(nn.Module):\n",
    "    def __init__(self, num_users, num_items,num_features, emb_size=100, p=0.5, feature_emb = 5):\n",
    "        super(MF_extra, self).__init__()\n",
    "        self.user_emb = nn.Embedding(num_users, emb_size)\n",
    "        self.item_emb = nn.Embedding(num_items, emb_size)\n",
    "        self.feature_emb = nn.Embedding(num_features,emb_size)\n",
    "        # init \n",
    "        self.user_emb.weight.data.uniform_(0,0.05)\n",
    "        self.item_emb.weight.data.uniform_(0,0.05)\n",
    "        self.feature_emb.weight.data.uniform_(0,0.05)\n",
    "        \n",
    "        self.linear1 = nn.Linear(emb_size*3, 10)\n",
    "        self.relu = nn.ReLU()\n",
    "        self.dropout = nn.Dropout(p)\n",
    "        self.linear2 = nn.Linear(10,1)\n",
    "    def forward(self, u, v, f):\n",
    "        U = self.user_emb(u)\n",
    "        V = self.item_emb(v)\n",
    "        Fe = self.feature_emb(f)\n",
    "        x = self.linear1(torch.cat((U,V,Fe),1))\n",
    "        x = self.relu(x)\n",
    "        x = self.dropout(x)\n",
    "        x = self.linear2(x)\n",
    "        return x"
   ]
  },
  {
   "cell_type": "code",
   "execution_count": 255,
   "id": "89d3f109",
   "metadata": {
    "ExecuteTime": {
     "end_time": "2022-02-27T21:17:04.352048Z",
     "start_time": "2022-02-27T21:17:04.329561Z"
    }
   },
   "outputs": [
    {
     "name": "stdout",
     "output_type": "stream",
     "text": [
      "200153 39901 195\n"
     ]
    }
   ],
   "source": [
    "num_users = df.user_id.max()+1\n",
    "num_items = df.item_id.max()+1\n",
    "num_features = len(np.unique(df_items.item_feature_id))\n",
    "print(num_users, num_items,num_features) "
   ]
  },
  {
   "cell_type": "code",
   "execution_count": 256,
   "id": "eb456556",
   "metadata": {
    "ExecuteTime": {
     "end_time": "2022-02-27T21:17:04.813710Z",
     "start_time": "2022-02-27T21:17:04.792771Z"
    }
   },
   "outputs": [],
   "source": [
    "def train_epocs2(model, epochs=10, lr=0.01, wd=0.0):\n",
    "    optimizer = torch.optim.Adam(model.parameters(), lr=lr,\n",
    "                                 weight_decay=wd)\n",
    "    for i in range(epochs):\n",
    "        model.train()\n",
    "        users = torch.LongTensor(train.user_id.values)\n",
    "        items = torch.LongTensor(train.item_id.values) \n",
    "        features = torch.LongTensor(train.item_feature_id.values)\n",
    "        ratings = torch.FloatTensor(train.rating.values)  \n",
    "        y_hat = model(users, items, features)\n",
    "        loss = F.binary_cross_entropy_with_logits(y_hat, ratings.unsqueeze(-1)) # binary cross entropy with logits\n",
    "        optimizer.zero_grad()\n",
    "        loss.backward()\n",
    "        optimizer.step()\n",
    "        testloss = valid_loss2(model)\n",
    "        if i%10 ==0:\n",
    "            print(\"train loss %.3f valid loss %.3f\" % (loss.item(), testloss)) \n",
    "            \n",
    "            \n",
    "def valid_loss2(model):\n",
    "    model.eval()\n",
    "    users = torch.LongTensor(val.user_id.values) # .cuda()\n",
    "    items = torch.LongTensor(val.item_id.values) #.cuda()\n",
    "    features = torch.LongTensor(val.item_feature_id.values)\n",
    "    ratings = torch.FloatTensor(val.rating.values) #.cuda()\n",
    "    y_hat = model(users, items, features)\n",
    "    loss = F.binary_cross_entropy_with_logits(y_hat, ratings.unsqueeze(-1))\n",
    "    return loss.item()"
   ]
  },
  {
   "cell_type": "code",
   "execution_count": 272,
   "id": "1ebf6c21",
   "metadata": {
    "ExecuteTime": {
     "end_time": "2022-02-27T21:25:32.227133Z",
     "start_time": "2022-02-27T21:24:34.961041Z"
    }
   },
   "outputs": [
    {
     "name": "stdout",
     "output_type": "stream",
     "text": [
      "train loss 0.656 valid loss 0.649\n",
      "train loss 0.517 valid loss 0.491\n",
      "train loss 0.347 valid loss 0.331\n",
      "train loss 0.260 valid loss 0.308\n"
     ]
    }
   ],
   "source": [
    "model = MF_extra(num_users, num_items,num_features, emb_size=50)\n",
    "train_epocs2(model, epochs=40, lr=0.01, wd=1e-5)"
   ]
  },
  {
   "cell_type": "markdown",
   "id": "afeb5926",
   "metadata": {},
   "source": [
    "# Hyper parameters search"
   ]
  },
  {
   "cell_type": "markdown",
   "id": "2de0669d",
   "metadata": {},
   "source": [
    "## Learning rate"
   ]
  },
  {
   "cell_type": "code",
   "execution_count": 282,
   "id": "440826ca",
   "metadata": {
    "ExecuteTime": {
     "end_time": "2022-02-27T21:37:35.927030Z",
     "start_time": "2022-02-27T21:37:12.498457Z"
    },
    "scrolled": true
   },
   "outputs": [
    {
     "name": "stdout",
     "output_type": "stream",
     "text": [
      "train loss 0.661 valid loss 1.932\n",
      "train loss 0.601 valid loss 0.427\n",
      "train loss 0.502 valid loss 0.469\n",
      "train loss 0.403 valid loss 0.487\n",
      "train loss 0.403 valid loss 0.446\n",
      "train loss 0.380 valid loss 0.435\n",
      "train loss 0.368 valid loss 0.416\n",
      "train loss 0.354 valid loss 0.400\n",
      "train loss 0.341 valid loss 0.394\n",
      "train loss 0.332 valid loss 0.395\n",
      "train loss 0.327 valid loss 0.402\n",
      "train loss 0.326 valid loss 0.403\n",
      "train loss 0.324 valid loss 0.401\n",
      "train loss 0.320 valid loss 0.396\n"
     ]
    }
   ],
   "source": [
    "# learning rate 1\n",
    "model = MF_bias(num_users, num_items, emb_size=3)\n",
    "train_epocs1(model, epochs=140, lr=1, wd=1e-5)"
   ]
  },
  {
   "cell_type": "code",
   "execution_count": 284,
   "id": "c2fa419f",
   "metadata": {
    "ExecuteTime": {
     "end_time": "2022-02-27T21:44:00.300199Z",
     "start_time": "2022-02-27T21:43:35.752617Z"
    }
   },
   "outputs": [
    {
     "name": "stdout",
     "output_type": "stream",
     "text": [
      "train loss 0.766 valid loss 0.690\n",
      "train loss 0.353 valid loss 0.383\n",
      "train loss 0.252 valid loss 0.389\n",
      "train loss 0.225 valid loss 0.389\n",
      "train loss 0.191 valid loss 0.452\n",
      "train loss 0.186 valid loss 0.496\n",
      "train loss 0.184 valid loss 0.540\n",
      "train loss 0.183 valid loss 0.573\n",
      "train loss 0.185 valid loss 0.589\n",
      "train loss 0.186 valid loss 0.609\n",
      "train loss 0.186 valid loss 0.626\n",
      "train loss 0.187 valid loss 0.637\n",
      "train loss 0.187 valid loss 0.649\n",
      "train loss 0.188 valid loss 0.659\n"
     ]
    }
   ],
   "source": [
    "# learning rate 0.1\n",
    "model = MF_bias(num_users, num_items, emb_size=3)\n",
    "train_epocs1(model, epochs=140, lr=0.1, wd=1e-5)"
   ]
  },
  {
   "cell_type": "code",
   "execution_count": 285,
   "id": "127174e0",
   "metadata": {
    "ExecuteTime": {
     "end_time": "2022-02-27T21:44:24.594481Z",
     "start_time": "2022-02-27T21:44:00.301614Z"
    }
   },
   "outputs": [
    {
     "name": "stdout",
     "output_type": "stream",
     "text": [
      "train loss 0.647 valid loss 0.644\n",
      "train loss 0.628 valid loss 0.623\n",
      "train loss 0.581 valid loss 0.573\n",
      "train loss 0.494 valid loss 0.484\n",
      "train loss 0.432 valid loss 0.427\n",
      "train loss 0.391 valid loss 0.408\n",
      "train loss 0.357 valid loss 0.398\n",
      "train loss 0.329 valid loss 0.393\n",
      "train loss 0.304 valid loss 0.392\n",
      "train loss 0.280 valid loss 0.392\n",
      "train loss 0.252 valid loss 0.388\n",
      "train loss 0.229 valid loss 0.388\n",
      "train loss 0.217 valid loss 0.396\n",
      "train loss 0.212 valid loss 0.407\n"
     ]
    }
   ],
   "source": [
    "# learning rate 0.01\n",
    "model = MF_bias(num_users, num_items, emb_size=3)\n",
    "train_epocs1(model, epochs=140, lr=0.01, wd=1e-5)"
   ]
  },
  {
   "cell_type": "code",
   "execution_count": 286,
   "id": "8010ee44",
   "metadata": {
    "ExecuteTime": {
     "end_time": "2022-02-27T21:44:49.018568Z",
     "start_time": "2022-02-27T21:44:24.595312Z"
    }
   },
   "outputs": [
    {
     "name": "stdout",
     "output_type": "stream",
     "text": [
      "train loss 0.663 valid loss 0.663\n",
      "train loss 0.660 valid loss 0.660\n",
      "train loss 0.657 valid loss 0.657\n",
      "train loss 0.654 valid loss 0.654\n",
      "train loss 0.651 valid loss 0.651\n",
      "train loss 0.647 valid loss 0.647\n",
      "train loss 0.643 valid loss 0.643\n",
      "train loss 0.639 valid loss 0.639\n",
      "train loss 0.633 valid loss 0.634\n",
      "train loss 0.628 valid loss 0.629\n",
      "train loss 0.621 valid loss 0.623\n",
      "train loss 0.614 valid loss 0.616\n",
      "train loss 0.607 valid loss 0.608\n",
      "train loss 0.598 valid loss 0.600\n"
     ]
    }
   ],
   "source": [
    "# learning rate 0.001\n",
    "model = MF_bias(num_users, num_items, emb_size=3)\n",
    "train_epocs1(model, epochs=140, lr=0.001, wd=1e-5)"
   ]
  },
  {
   "cell_type": "markdown",
   "id": "8d64cab7",
   "metadata": {},
   "source": [
    "### Conclusion: LR 0.01 is enough to quickly converge to minimum loss. 1 and 0.1 would be too large and 0.001 would be too small"
   ]
  },
  {
   "cell_type": "markdown",
   "id": "db0dce90",
   "metadata": {
    "ExecuteTime": {
     "end_time": "2022-02-27T21:44:49.054729Z",
     "start_time": "2022-02-27T21:44:49.052539Z"
    }
   },
   "source": [
    "## Embedding Size"
   ]
  },
  {
   "cell_type": "code",
   "execution_count": 289,
   "id": "f0bc375a",
   "metadata": {
    "ExecuteTime": {
     "end_time": "2022-02-27T21:45:08.418421Z",
     "start_time": "2022-02-27T21:44:59.344390Z"
    }
   },
   "outputs": [
    {
     "name": "stdout",
     "output_type": "stream",
     "text": [
      "train loss 0.654 valid loss 0.651\n",
      "train loss 0.627 valid loss 0.623\n",
      "train loss 0.571 valid loss 0.563\n",
      "train loss 0.471 valid loss 0.457\n",
      "train loss 0.377 valid loss 0.362\n"
     ]
    }
   ],
   "source": [
    "# emb_size 3\n",
    "model = MF_bias(num_users, num_items, emb_size=3)\n",
    "train_epocs1(model, epochs=50, lr=0.01, wd=1e-5)"
   ]
  },
  {
   "cell_type": "code",
   "execution_count": 290,
   "id": "ed3e94a6",
   "metadata": {
    "ExecuteTime": {
     "end_time": "2022-02-27T21:45:18.962091Z",
     "start_time": "2022-02-27T21:45:08.419670Z"
    }
   },
   "outputs": [
    {
     "name": "stdout",
     "output_type": "stream",
     "text": [
      "train loss 0.710 valid loss 0.708\n",
      "train loss 0.679 valid loss 0.675\n",
      "train loss 0.627 valid loss 0.617\n",
      "train loss 0.547 valid loss 0.527\n",
      "train loss 0.473 valid loss 0.445\n"
     ]
    }
   ],
   "source": [
    "# emb_size 10\n",
    "model = MF_bias(num_users, num_items, emb_size=5)\n",
    "train_epocs1(model, epochs=50, lr=0.01, wd=1e-5)"
   ]
  },
  {
   "cell_type": "code",
   "execution_count": 291,
   "id": "a4f17607",
   "metadata": {
    "ExecuteTime": {
     "end_time": "2022-02-27T21:45:29.649977Z",
     "start_time": "2022-02-27T21:45:18.963036Z"
    }
   },
   "outputs": [
    {
     "name": "stdout",
     "output_type": "stream",
     "text": [
      "train loss 0.657 valid loss 0.653\n",
      "train loss 0.617 valid loss 0.610\n",
      "train loss 0.521 valid loss 0.509\n",
      "train loss 0.409 valid loss 0.403\n",
      "train loss 0.337 valid loss 0.355\n"
     ]
    }
   ],
   "source": [
    "# emb_size 50\n",
    "model = MF_bias(num_users, num_items, emb_size=5)\n",
    "train_epocs1(model, epochs=50, lr=0.01, wd=1e-5)"
   ]
  },
  {
   "cell_type": "code",
   "execution_count": 292,
   "id": "56bc4450",
   "metadata": {
    "ExecuteTime": {
     "end_time": "2022-02-27T21:45:40.468409Z",
     "start_time": "2022-02-27T21:45:29.651505Z"
    }
   },
   "outputs": [
    {
     "name": "stdout",
     "output_type": "stream",
     "text": [
      "train loss 0.727 valid loss 0.721\n",
      "train loss 0.675 valid loss 0.670\n",
      "train loss 0.603 valid loss 0.596\n",
      "train loss 0.494 valid loss 0.478\n",
      "train loss 0.404 valid loss 0.373\n"
     ]
    }
   ],
   "source": [
    "# emb_size 100\n",
    "model = MF_bias(num_users, num_items, emb_size=5)\n",
    "train_epocs1(model, epochs=50, lr=0.01, wd=1e-5)"
   ]
  },
  {
   "cell_type": "markdown",
   "id": "9e506c46",
   "metadata": {},
   "source": [
    "### Conclusion: Embedding size 50 is can converge to minimum loss."
   ]
  },
  {
   "cell_type": "markdown",
   "id": "2546a13c",
   "metadata": {},
   "source": [
    "## Dropout rate"
   ]
  },
  {
   "cell_type": "code",
   "execution_count": 295,
   "id": "e03848b1",
   "metadata": {
    "ExecuteTime": {
     "end_time": "2022-02-27T22:02:14.904990Z",
     "start_time": "2022-02-27T21:59:59.605427Z"
    }
   },
   "outputs": [
    {
     "name": "stdout",
     "output_type": "stream",
     "text": [
      "Dropout rate: 0.1\n",
      "train loss 0.737 valid loss 0.727\n",
      "train loss 0.588 valid loss 0.567\n",
      "train loss 0.344 valid loss 0.352\n",
      "train loss 0.252 valid loss 0.311\n",
      "train loss 0.201 valid loss 0.304\n",
      "Dropout rate: 0.5\n",
      "train loss 0.739 valid loss 0.728\n",
      "train loss 0.599 valid loss 0.577\n",
      "train loss 0.384 valid loss 0.357\n",
      "train loss 0.284 valid loss 0.310\n",
      "train loss 0.238 valid loss 0.310\n",
      "Dropout rate: 0.9\n",
      "train loss 0.664 valid loss 0.657\n",
      "train loss 0.576 valid loss 0.531\n",
      "train loss 0.511 valid loss 0.398\n",
      "train loss 0.477 valid loss 0.361\n",
      "train loss 0.463 valid loss 0.353\n"
     ]
    }
   ],
   "source": [
    "nb_epochs = 20\n",
    "learning_rate = 0.001\n",
    "p_vals = []\n",
    "for p in [0.1,0.5,0.9]:\n",
    "    print('Dropout rate:',p)\n",
    "    model = MF_bias(num_users, num_items, emb_size=50,p=p)\n",
    "    train_epocs1(model, epochs=50, lr=0.01, wd=1e-5)"
   ]
  },
  {
   "cell_type": "markdown",
   "id": "c16792fb",
   "metadata": {},
   "source": [
    "### Dropout rate of 0.5 achieves lowest validation loss"
   ]
  },
  {
   "cell_type": "markdown",
   "id": "6d84e861",
   "metadata": {},
   "source": [
    "## Generate submission file"
   ]
  },
  {
   "cell_type": "code",
   "execution_count": 263,
   "id": "f9df578b",
   "metadata": {
    "ExecuteTime": {
     "end_time": "2022-02-27T21:19:43.483305Z",
     "start_time": "2022-02-27T21:19:43.359385Z"
    }
   },
   "outputs": [
    {
     "data": {
      "text/html": [
       "<div>\n",
       "<style scoped>\n",
       "    .dataframe tbody tr th:only-of-type {\n",
       "        vertical-align: middle;\n",
       "    }\n",
       "\n",
       "    .dataframe tbody tr th {\n",
       "        vertical-align: top;\n",
       "    }\n",
       "\n",
       "    .dataframe thead th {\n",
       "        text-align: right;\n",
       "    }\n",
       "</style>\n",
       "<table border=\"1\" class=\"dataframe\">\n",
       "  <thead>\n",
       "    <tr style=\"text-align: right;\">\n",
       "      <th></th>\n",
       "      <th>id</th>\n",
       "      <th>user_id</th>\n",
       "      <th>item_id</th>\n",
       "    </tr>\n",
       "  </thead>\n",
       "  <tbody>\n",
       "    <tr>\n",
       "      <th>0</th>\n",
       "      <td>0</td>\n",
       "      <td>4</td>\n",
       "      <td>16835</td>\n",
       "    </tr>\n",
       "    <tr>\n",
       "      <th>1</th>\n",
       "      <td>1</td>\n",
       "      <td>4</td>\n",
       "      <td>22590</td>\n",
       "    </tr>\n",
       "    <tr>\n",
       "      <th>2</th>\n",
       "      <td>2</td>\n",
       "      <td>4</td>\n",
       "      <td>1978</td>\n",
       "    </tr>\n",
       "    <tr>\n",
       "      <th>3</th>\n",
       "      <td>3</td>\n",
       "      <td>4</td>\n",
       "      <td>28916</td>\n",
       "    </tr>\n",
       "    <tr>\n",
       "      <th>4</th>\n",
       "      <td>4</td>\n",
       "      <td>4</td>\n",
       "      <td>14427</td>\n",
       "    </tr>\n",
       "  </tbody>\n",
       "</table>\n",
       "</div>"
      ],
      "text/plain": [
       "   id  user_id  item_id\n",
       "0   0        4    16835\n",
       "1   1        4    22590\n",
       "2   2        4     1978\n",
       "3   3        4    28916\n",
       "4   4        4    14427"
      ]
     },
     "execution_count": 263,
     "metadata": {},
     "output_type": "execute_result"
    }
   ],
   "source": [
    "df_test_ = pd.read_csv('test_kaggle.csv')\n",
    "df_test_.drop('context_feature_id',inplace=True, axis=1)\n",
    "df_test_.head()"
   ]
  },
  {
   "cell_type": "code",
   "execution_count": 266,
   "id": "a91b6428",
   "metadata": {
    "ExecuteTime": {
     "end_time": "2022-02-27T21:22:49.621888Z",
     "start_time": "2022-02-27T21:22:49.549147Z"
    }
   },
   "outputs": [
    {
     "data": {
      "text/html": [
       "<div>\n",
       "<style scoped>\n",
       "    .dataframe tbody tr th:only-of-type {\n",
       "        vertical-align: middle;\n",
       "    }\n",
       "\n",
       "    .dataframe tbody tr th {\n",
       "        vertical-align: top;\n",
       "    }\n",
       "\n",
       "    .dataframe thead th {\n",
       "        text-align: right;\n",
       "    }\n",
       "</style>\n",
       "<table border=\"1\" class=\"dataframe\">\n",
       "  <thead>\n",
       "    <tr style=\"text-align: right;\">\n",
       "      <th></th>\n",
       "      <th>id</th>\n",
       "      <th>user_id</th>\n",
       "      <th>item_id</th>\n",
       "      <th>item_feature_id</th>\n",
       "    </tr>\n",
       "  </thead>\n",
       "  <tbody>\n",
       "    <tr>\n",
       "      <th>0</th>\n",
       "      <td>0</td>\n",
       "      <td>4</td>\n",
       "      <td>16835</td>\n",
       "      <td>142</td>\n",
       "    </tr>\n",
       "    <tr>\n",
       "      <th>1</th>\n",
       "      <td>434</td>\n",
       "      <td>188</td>\n",
       "      <td>16835</td>\n",
       "      <td>142</td>\n",
       "    </tr>\n",
       "    <tr>\n",
       "      <th>2</th>\n",
       "      <td>48540</td>\n",
       "      <td>25437</td>\n",
       "      <td>16835</td>\n",
       "      <td>142</td>\n",
       "    </tr>\n",
       "    <tr>\n",
       "      <th>3</th>\n",
       "      <td>51161</td>\n",
       "      <td>26834</td>\n",
       "      <td>16835</td>\n",
       "      <td>142</td>\n",
       "    </tr>\n",
       "    <tr>\n",
       "      <th>4</th>\n",
       "      <td>73056</td>\n",
       "      <td>38465</td>\n",
       "      <td>16835</td>\n",
       "      <td>142</td>\n",
       "    </tr>\n",
       "  </tbody>\n",
       "</table>\n",
       "</div>"
      ],
      "text/plain": [
       "      id  user_id  item_id  item_feature_id\n",
       "0      0        4    16835              142\n",
       "1    434      188    16835              142\n",
       "2  48540    25437    16835              142\n",
       "3  51161    26834    16835              142\n",
       "4  73056    38465    16835              142"
      ]
     },
     "execution_count": 266,
     "metadata": {},
     "output_type": "execute_result"
    }
   ],
   "source": [
    "df_test = pd.merge(df_test,df_items,on='item_id')\n",
    "df_test.head()"
   ]
  },
  {
   "cell_type": "code",
   "execution_count": 267,
   "id": "d7e4d536",
   "metadata": {
    "ExecuteTime": {
     "end_time": "2022-02-27T21:22:53.347827Z",
     "start_time": "2022-02-27T21:22:53.142000Z"
    }
   },
   "outputs": [],
   "source": [
    "users = torch.LongTensor(df_test.user_id.values) # .cuda()\n",
    "items = torch.LongTensor(df_test.item_id.values) #.cuda()\n",
    "features = torch.LongTensor(df_test.item_feature_id.values)\n",
    "y_pred = torch.sigmoid(model(users,items,features))"
   ]
  },
  {
   "cell_type": "code",
   "execution_count": 268,
   "id": "5d34ccaa",
   "metadata": {
    "ExecuteTime": {
     "end_time": "2022-02-27T21:22:54.844183Z",
     "start_time": "2022-02-27T21:22:54.805621Z"
    },
    "scrolled": true
   },
   "outputs": [
    {
     "data": {
      "text/plain": [
       "tensor([[0.7819],\n",
       "        [0.7404],\n",
       "        [0.9642],\n",
       "        ...,\n",
       "        [0.0279],\n",
       "        [0.0928],\n",
       "        [0.6124]])"
      ]
     },
     "execution_count": 268,
     "metadata": {},
     "output_type": "execute_result"
    }
   ],
   "source": [
    "y_pred.detach()"
   ]
  },
  {
   "cell_type": "code",
   "execution_count": 269,
   "id": "e93fbf37",
   "metadata": {
    "ExecuteTime": {
     "end_time": "2022-02-27T21:22:57.761314Z",
     "start_time": "2022-02-27T21:22:57.755660Z"
    }
   },
   "outputs": [],
   "source": [
    "df_test['rating'] = y_pred.detach()"
   ]
  },
  {
   "cell_type": "code",
   "execution_count": 270,
   "id": "da956fe9",
   "metadata": {
    "ExecuteTime": {
     "end_time": "2022-02-27T21:22:58.403981Z",
     "start_time": "2022-02-27T21:22:58.382172Z"
    },
    "scrolled": false
   },
   "outputs": [
    {
     "data": {
      "text/html": [
       "<div>\n",
       "<style scoped>\n",
       "    .dataframe tbody tr th:only-of-type {\n",
       "        vertical-align: middle;\n",
       "    }\n",
       "\n",
       "    .dataframe tbody tr th {\n",
       "        vertical-align: top;\n",
       "    }\n",
       "\n",
       "    .dataframe thead th {\n",
       "        text-align: right;\n",
       "    }\n",
       "</style>\n",
       "<table border=\"1\" class=\"dataframe\">\n",
       "  <thead>\n",
       "    <tr style=\"text-align: right;\">\n",
       "      <th></th>\n",
       "      <th>id</th>\n",
       "      <th>user_id</th>\n",
       "      <th>item_id</th>\n",
       "      <th>item_feature_id</th>\n",
       "      <th>rating</th>\n",
       "    </tr>\n",
       "  </thead>\n",
       "  <tbody>\n",
       "    <tr>\n",
       "      <th>0</th>\n",
       "      <td>0</td>\n",
       "      <td>4</td>\n",
       "      <td>16835</td>\n",
       "      <td>142</td>\n",
       "      <td>0.781930</td>\n",
       "    </tr>\n",
       "    <tr>\n",
       "      <th>1</th>\n",
       "      <td>434</td>\n",
       "      <td>188</td>\n",
       "      <td>16835</td>\n",
       "      <td>142</td>\n",
       "      <td>0.740351</td>\n",
       "    </tr>\n",
       "    <tr>\n",
       "      <th>2</th>\n",
       "      <td>48540</td>\n",
       "      <td>25437</td>\n",
       "      <td>16835</td>\n",
       "      <td>142</td>\n",
       "      <td>0.964247</td>\n",
       "    </tr>\n",
       "    <tr>\n",
       "      <th>3</th>\n",
       "      <td>51161</td>\n",
       "      <td>26834</td>\n",
       "      <td>16835</td>\n",
       "      <td>142</td>\n",
       "      <td>0.761634</td>\n",
       "    </tr>\n",
       "    <tr>\n",
       "      <th>4</th>\n",
       "      <td>73056</td>\n",
       "      <td>38465</td>\n",
       "      <td>16835</td>\n",
       "      <td>142</td>\n",
       "      <td>0.609190</td>\n",
       "    </tr>\n",
       "    <tr>\n",
       "      <th>...</th>\n",
       "      <td>...</td>\n",
       "      <td>...</td>\n",
       "      <td>...</td>\n",
       "      <td>...</td>\n",
       "      <td>...</td>\n",
       "    </tr>\n",
       "    <tr>\n",
       "      <th>381380</th>\n",
       "      <td>263826</td>\n",
       "      <td>139361</td>\n",
       "      <td>7203</td>\n",
       "      <td>142</td>\n",
       "      <td>0.180864</td>\n",
       "    </tr>\n",
       "    <tr>\n",
       "      <th>381381</th>\n",
       "      <td>314245</td>\n",
       "      <td>165372</td>\n",
       "      <td>7203</td>\n",
       "      <td>142</td>\n",
       "      <td>0.028509</td>\n",
       "    </tr>\n",
       "    <tr>\n",
       "      <th>381382</th>\n",
       "      <td>318929</td>\n",
       "      <td>167864</td>\n",
       "      <td>7203</td>\n",
       "      <td>142</td>\n",
       "      <td>0.027872</td>\n",
       "    </tr>\n",
       "    <tr>\n",
       "      <th>381383</th>\n",
       "      <td>356013</td>\n",
       "      <td>186485</td>\n",
       "      <td>7203</td>\n",
       "      <td>142</td>\n",
       "      <td>0.092848</td>\n",
       "    </tr>\n",
       "    <tr>\n",
       "      <th>381384</th>\n",
       "      <td>374188</td>\n",
       "      <td>196396</td>\n",
       "      <td>7203</td>\n",
       "      <td>142</td>\n",
       "      <td>0.612409</td>\n",
       "    </tr>\n",
       "  </tbody>\n",
       "</table>\n",
       "<p>381385 rows × 5 columns</p>\n",
       "</div>"
      ],
      "text/plain": [
       "            id  user_id  item_id  item_feature_id    rating\n",
       "0            0        4    16835              142  0.781930\n",
       "1          434      188    16835              142  0.740351\n",
       "2        48540    25437    16835              142  0.964247\n",
       "3        51161    26834    16835              142  0.761634\n",
       "4        73056    38465    16835              142  0.609190\n",
       "...        ...      ...      ...              ...       ...\n",
       "381380  263826   139361     7203              142  0.180864\n",
       "381381  314245   165372     7203              142  0.028509\n",
       "381382  318929   167864     7203              142  0.027872\n",
       "381383  356013   186485     7203              142  0.092848\n",
       "381384  374188   196396     7203              142  0.612409\n",
       "\n",
       "[381385 rows x 5 columns]"
      ]
     },
     "execution_count": 270,
     "metadata": {},
     "output_type": "execute_result"
    }
   ],
   "source": [
    "df_test"
   ]
  },
  {
   "cell_type": "code",
   "execution_count": 296,
   "id": "df38b43e",
   "metadata": {
    "ExecuteTime": {
     "end_time": "2022-02-28T00:41:45.896982Z",
     "start_time": "2022-02-28T00:41:45.858922Z"
    }
   },
   "outputs": [
    {
     "data": {
      "text/html": [
       "<div>\n",
       "<style scoped>\n",
       "    .dataframe tbody tr th:only-of-type {\n",
       "        vertical-align: middle;\n",
       "    }\n",
       "\n",
       "    .dataframe tbody tr th {\n",
       "        vertical-align: top;\n",
       "    }\n",
       "\n",
       "    .dataframe thead th {\n",
       "        text-align: right;\n",
       "    }\n",
       "</style>\n",
       "<table border=\"1\" class=\"dataframe\">\n",
       "  <thead>\n",
       "    <tr style=\"text-align: right;\">\n",
       "      <th></th>\n",
       "      <th>id</th>\n",
       "      <th>user_id</th>\n",
       "      <th>item_id</th>\n",
       "      <th>item_feature_id</th>\n",
       "      <th>rating</th>\n",
       "    </tr>\n",
       "  </thead>\n",
       "  <tbody>\n",
       "    <tr>\n",
       "      <th>0</th>\n",
       "      <td>0</td>\n",
       "      <td>4</td>\n",
       "      <td>16835</td>\n",
       "      <td>142</td>\n",
       "      <td>0.781930</td>\n",
       "    </tr>\n",
       "    <tr>\n",
       "      <th>1</th>\n",
       "      <td>434</td>\n",
       "      <td>188</td>\n",
       "      <td>16835</td>\n",
       "      <td>142</td>\n",
       "      <td>0.740351</td>\n",
       "    </tr>\n",
       "    <tr>\n",
       "      <th>2</th>\n",
       "      <td>48540</td>\n",
       "      <td>25437</td>\n",
       "      <td>16835</td>\n",
       "      <td>142</td>\n",
       "      <td>0.964247</td>\n",
       "    </tr>\n",
       "    <tr>\n",
       "      <th>3</th>\n",
       "      <td>51161</td>\n",
       "      <td>26834</td>\n",
       "      <td>16835</td>\n",
       "      <td>142</td>\n",
       "      <td>0.761634</td>\n",
       "    </tr>\n",
       "    <tr>\n",
       "      <th>4</th>\n",
       "      <td>73056</td>\n",
       "      <td>38465</td>\n",
       "      <td>16835</td>\n",
       "      <td>142</td>\n",
       "      <td>0.609190</td>\n",
       "    </tr>\n",
       "    <tr>\n",
       "      <th>...</th>\n",
       "      <td>...</td>\n",
       "      <td>...</td>\n",
       "      <td>...</td>\n",
       "      <td>...</td>\n",
       "      <td>...</td>\n",
       "    </tr>\n",
       "    <tr>\n",
       "      <th>381380</th>\n",
       "      <td>263826</td>\n",
       "      <td>139361</td>\n",
       "      <td>7203</td>\n",
       "      <td>142</td>\n",
       "      <td>0.180864</td>\n",
       "    </tr>\n",
       "    <tr>\n",
       "      <th>381381</th>\n",
       "      <td>314245</td>\n",
       "      <td>165372</td>\n",
       "      <td>7203</td>\n",
       "      <td>142</td>\n",
       "      <td>0.028509</td>\n",
       "    </tr>\n",
       "    <tr>\n",
       "      <th>381382</th>\n",
       "      <td>318929</td>\n",
       "      <td>167864</td>\n",
       "      <td>7203</td>\n",
       "      <td>142</td>\n",
       "      <td>0.027872</td>\n",
       "    </tr>\n",
       "    <tr>\n",
       "      <th>381383</th>\n",
       "      <td>356013</td>\n",
       "      <td>186485</td>\n",
       "      <td>7203</td>\n",
       "      <td>142</td>\n",
       "      <td>0.092848</td>\n",
       "    </tr>\n",
       "    <tr>\n",
       "      <th>381384</th>\n",
       "      <td>374188</td>\n",
       "      <td>196396</td>\n",
       "      <td>7203</td>\n",
       "      <td>142</td>\n",
       "      <td>0.612409</td>\n",
       "    </tr>\n",
       "  </tbody>\n",
       "</table>\n",
       "<p>381385 rows × 5 columns</p>\n",
       "</div>"
      ],
      "text/plain": [
       "            id  user_id  item_id  item_feature_id    rating\n",
       "0            0        4    16835              142  0.781930\n",
       "1          434      188    16835              142  0.740351\n",
       "2        48540    25437    16835              142  0.964247\n",
       "3        51161    26834    16835              142  0.761634\n",
       "4        73056    38465    16835              142  0.609190\n",
       "...        ...      ...      ...              ...       ...\n",
       "381380  263826   139361     7203              142  0.180864\n",
       "381381  314245   165372     7203              142  0.028509\n",
       "381382  318929   167864     7203              142  0.027872\n",
       "381383  356013   186485     7203              142  0.092848\n",
       "381384  374188   196396     7203              142  0.612409\n",
       "\n",
       "[381385 rows x 5 columns]"
      ]
     },
     "execution_count": 296,
     "metadata": {},
     "output_type": "execute_result"
    }
   ],
   "source": [
    "df_test"
   ]
  },
  {
   "cell_type": "code",
   "execution_count": 297,
   "id": "b1940912",
   "metadata": {
    "ExecuteTime": {
     "end_time": "2022-02-28T00:41:50.075315Z",
     "start_time": "2022-02-28T00:41:49.447227Z"
    }
   },
   "outputs": [],
   "source": [
    "df_test[['id','rating']].to_csv('trial4.csv',index=False)"
   ]
  },
  {
   "cell_type": "code",
   "execution_count": null,
   "id": "2c6a459d",
   "metadata": {},
   "outputs": [],
   "source": []
  }
 ],
 "metadata": {
  "kernelspec": {
   "display_name": "Python 3 (ipykernel)",
   "language": "python",
   "name": "python3"
  },
  "language_info": {
   "codemirror_mode": {
    "name": "ipython",
    "version": 3
   },
   "file_extension": ".py",
   "mimetype": "text/x-python",
   "name": "python",
   "nbconvert_exporter": "python",
   "pygments_lexer": "ipython3",
   "version": "3.9.7"
  }
 },
 "nbformat": 4,
 "nbformat_minor": 5
}
